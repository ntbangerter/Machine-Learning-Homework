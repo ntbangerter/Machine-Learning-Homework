{
 "cells": [
  {
   "cell_type": "markdown",
   "metadata": {},
   "source": [
    "## Homework 1"
   ]
  },
  {
   "cell_type": "code",
   "execution_count": 229,
   "metadata": {
    "collapsed": true
   },
   "outputs": [],
   "source": [
    "import pandas as pd\n",
    "import numpy as np\n",
    "import seaborn as sns\n",
    "import matplotlib.pyplot as plt\n",
    "%matplotlib inline\n",
    "import requests"
   ]
  },
  {
   "cell_type": "markdown",
   "metadata": {},
   "source": [
    "### Baltime Crime Data, 2012-2017 (CSV)"
   ]
  },
  {
   "cell_type": "markdown",
   "metadata": {},
   "source": [
    "My younger brother is currently studying at a university in Baltimore, Maryland, which has been in the news fairly regularly for the high levels of crime it experiences relative to other parts of the US. For my first data set, I decided to see what data I could find on crime committed in Baltimore over the last few years, and found a dataset on Kaggle that contained crime data released by the Baltimore Police Department for the years 2012-2017, which I downloaded as a CSV."
   ]
  },
  {
   "cell_type": "code",
   "execution_count": 135,
   "metadata": {
    "collapsed": true
   },
   "outputs": [],
   "source": [
    "crime_data = pd.read_csv(\"BPD_Crime_Data.csv\")"
   ]
  },
  {
   "cell_type": "code",
   "execution_count": 136,
   "metadata": {},
   "outputs": [
    {
     "data": {
      "text/html": [
       "<div>\n",
       "<style>\n",
       "    .dataframe thead tr:only-child th {\n",
       "        text-align: right;\n",
       "    }\n",
       "\n",
       "    .dataframe thead th {\n",
       "        text-align: left;\n",
       "    }\n",
       "\n",
       "    .dataframe tbody tr th {\n",
       "        vertical-align: top;\n",
       "    }\n",
       "</style>\n",
       "<table border=\"1\" class=\"dataframe\">\n",
       "  <thead>\n",
       "    <tr style=\"text-align: right;\">\n",
       "      <th></th>\n",
       "      <th>CrimeDate</th>\n",
       "      <th>CrimeTime</th>\n",
       "      <th>CrimeCode</th>\n",
       "      <th>Location</th>\n",
       "      <th>Description</th>\n",
       "      <th>Inside/Outside</th>\n",
       "      <th>Weapon</th>\n",
       "      <th>Post</th>\n",
       "      <th>District</th>\n",
       "      <th>Neighborhood</th>\n",
       "      <th>Longitude</th>\n",
       "      <th>Latitude</th>\n",
       "      <th>Location 1</th>\n",
       "      <th>Premise</th>\n",
       "      <th>Total Incidents</th>\n",
       "    </tr>\n",
       "  </thead>\n",
       "  <tbody>\n",
       "    <tr>\n",
       "      <th>0</th>\n",
       "      <td>09/02/2017</td>\n",
       "      <td>23:30:00</td>\n",
       "      <td>3JK</td>\n",
       "      <td>4200 AUDREY AVE</td>\n",
       "      <td>ROBBERY - RESIDENCE</td>\n",
       "      <td>I</td>\n",
       "      <td>KNIFE</td>\n",
       "      <td>913.0</td>\n",
       "      <td>SOUTHERN</td>\n",
       "      <td>Brooklyn</td>\n",
       "      <td>-76.60541</td>\n",
       "      <td>39.22951</td>\n",
       "      <td>(39.2295100000, -76.6054100000)</td>\n",
       "      <td>ROW/TOWNHO</td>\n",
       "      <td>1</td>\n",
       "    </tr>\n",
       "    <tr>\n",
       "      <th>1</th>\n",
       "      <td>09/02/2017</td>\n",
       "      <td>23:00:00</td>\n",
       "      <td>7A</td>\n",
       "      <td>800 NEWINGTON AVE</td>\n",
       "      <td>AUTO THEFT</td>\n",
       "      <td>O</td>\n",
       "      <td>NaN</td>\n",
       "      <td>133.0</td>\n",
       "      <td>CENTRAL</td>\n",
       "      <td>Reservoir Hill</td>\n",
       "      <td>-76.63217</td>\n",
       "      <td>39.31360</td>\n",
       "      <td>(39.3136000000, -76.6321700000)</td>\n",
       "      <td>STREET</td>\n",
       "      <td>1</td>\n",
       "    </tr>\n",
       "    <tr>\n",
       "      <th>2</th>\n",
       "      <td>09/02/2017</td>\n",
       "      <td>22:53:00</td>\n",
       "      <td>9S</td>\n",
       "      <td>600 RADNOR AV</td>\n",
       "      <td>SHOOTING</td>\n",
       "      <td>Outside</td>\n",
       "      <td>FIREARM</td>\n",
       "      <td>524.0</td>\n",
       "      <td>NORTHERN</td>\n",
       "      <td>Winston-Govans</td>\n",
       "      <td>-76.60697</td>\n",
       "      <td>39.34768</td>\n",
       "      <td>(39.3476800000, -76.6069700000)</td>\n",
       "      <td>Street</td>\n",
       "      <td>1</td>\n",
       "    </tr>\n",
       "    <tr>\n",
       "      <th>3</th>\n",
       "      <td>09/02/2017</td>\n",
       "      <td>22:50:00</td>\n",
       "      <td>4C</td>\n",
       "      <td>1800 RAMSAY ST</td>\n",
       "      <td>AGG. ASSAULT</td>\n",
       "      <td>I</td>\n",
       "      <td>OTHER</td>\n",
       "      <td>934.0</td>\n",
       "      <td>SOUTHERN</td>\n",
       "      <td>Carrollton Ridge</td>\n",
       "      <td>-76.64526</td>\n",
       "      <td>39.28315</td>\n",
       "      <td>(39.2831500000, -76.6452600000)</td>\n",
       "      <td>ROW/TOWNHO</td>\n",
       "      <td>1</td>\n",
       "    </tr>\n",
       "    <tr>\n",
       "      <th>4</th>\n",
       "      <td>09/02/2017</td>\n",
       "      <td>22:31:00</td>\n",
       "      <td>4E</td>\n",
       "      <td>100 LIGHT ST</td>\n",
       "      <td>COMMON ASSAULT</td>\n",
       "      <td>O</td>\n",
       "      <td>HANDS</td>\n",
       "      <td>113.0</td>\n",
       "      <td>CENTRAL</td>\n",
       "      <td>Downtown West</td>\n",
       "      <td>-76.61365</td>\n",
       "      <td>39.28756</td>\n",
       "      <td>(39.2875600000, -76.6136500000)</td>\n",
       "      <td>STREET</td>\n",
       "      <td>1</td>\n",
       "    </tr>\n",
       "    <tr>\n",
       "      <th>5</th>\n",
       "      <td>09/02/2017</td>\n",
       "      <td>22:00:00</td>\n",
       "      <td>5A</td>\n",
       "      <td>CHERRYCREST RD</td>\n",
       "      <td>BURGLARY</td>\n",
       "      <td>I</td>\n",
       "      <td>NaN</td>\n",
       "      <td>922.0</td>\n",
       "      <td>SOUTHERN</td>\n",
       "      <td>Cherry Hill</td>\n",
       "      <td>-76.62131</td>\n",
       "      <td>39.24867</td>\n",
       "      <td>(39.2486700000, -76.6213100000)</td>\n",
       "      <td>ROW/TOWNHO</td>\n",
       "      <td>1</td>\n",
       "    </tr>\n",
       "    <tr>\n",
       "      <th>6</th>\n",
       "      <td>09/02/2017</td>\n",
       "      <td>21:15:00</td>\n",
       "      <td>1F</td>\n",
       "      <td>3400 HARMONY CT</td>\n",
       "      <td>HOMICIDE</td>\n",
       "      <td>Outside</td>\n",
       "      <td>FIREARM</td>\n",
       "      <td>232.0</td>\n",
       "      <td>SOUTHEASTERN</td>\n",
       "      <td>Canton</td>\n",
       "      <td>-76.56827</td>\n",
       "      <td>39.28202</td>\n",
       "      <td>(39.2820200000, -76.5682700000)</td>\n",
       "      <td>Street</td>\n",
       "      <td>1</td>\n",
       "    </tr>\n",
       "    <tr>\n",
       "      <th>7</th>\n",
       "      <td>09/02/2017</td>\n",
       "      <td>21:35:00</td>\n",
       "      <td>3B</td>\n",
       "      <td>400 W LANVALE ST</td>\n",
       "      <td>ROBBERY - STREET</td>\n",
       "      <td>O</td>\n",
       "      <td>NaN</td>\n",
       "      <td>123.0</td>\n",
       "      <td>CENTRAL</td>\n",
       "      <td>Upton</td>\n",
       "      <td>-76.62789</td>\n",
       "      <td>39.30254</td>\n",
       "      <td>(39.3025400000, -76.6278900000)</td>\n",
       "      <td>STREET</td>\n",
       "      <td>1</td>\n",
       "    </tr>\n",
       "    <tr>\n",
       "      <th>8</th>\n",
       "      <td>09/02/2017</td>\n",
       "      <td>21:00:00</td>\n",
       "      <td>4C</td>\n",
       "      <td>2300 LYNDHURST AVE</td>\n",
       "      <td>AGG. ASSAULT</td>\n",
       "      <td>O</td>\n",
       "      <td>OTHER</td>\n",
       "      <td>641.0</td>\n",
       "      <td>NORTHWESTERN</td>\n",
       "      <td>Windsor Hills</td>\n",
       "      <td>-76.68365</td>\n",
       "      <td>39.31370</td>\n",
       "      <td>(39.3137000000, -76.6836500000)</td>\n",
       "      <td>STREET</td>\n",
       "      <td>1</td>\n",
       "    </tr>\n",
       "    <tr>\n",
       "      <th>9</th>\n",
       "      <td>09/02/2017</td>\n",
       "      <td>21:00:00</td>\n",
       "      <td>4E</td>\n",
       "      <td>1200 N ELLWOOD AVE</td>\n",
       "      <td>COMMON ASSAULT</td>\n",
       "      <td>I</td>\n",
       "      <td>HANDS</td>\n",
       "      <td>332.0</td>\n",
       "      <td>EASTERN</td>\n",
       "      <td>Berea</td>\n",
       "      <td>-76.57419</td>\n",
       "      <td>39.30551</td>\n",
       "      <td>(39.3055100000, -76.5741900000)</td>\n",
       "      <td>ROW/TOWNHO</td>\n",
       "      <td>1</td>\n",
       "    </tr>\n",
       "  </tbody>\n",
       "</table>\n",
       "</div>"
      ],
      "text/plain": [
       "    CrimeDate CrimeTime CrimeCode            Location          Description  \\\n",
       "0  09/02/2017  23:30:00       3JK     4200 AUDREY AVE  ROBBERY - RESIDENCE   \n",
       "1  09/02/2017  23:00:00        7A   800 NEWINGTON AVE           AUTO THEFT   \n",
       "2  09/02/2017  22:53:00        9S       600 RADNOR AV             SHOOTING   \n",
       "3  09/02/2017  22:50:00        4C      1800 RAMSAY ST         AGG. ASSAULT   \n",
       "4  09/02/2017  22:31:00        4E        100 LIGHT ST       COMMON ASSAULT   \n",
       "5  09/02/2017  22:00:00        5A      CHERRYCREST RD             BURGLARY   \n",
       "6  09/02/2017  21:15:00        1F     3400 HARMONY CT             HOMICIDE   \n",
       "7  09/02/2017  21:35:00        3B    400 W LANVALE ST     ROBBERY - STREET   \n",
       "8  09/02/2017  21:00:00        4C  2300 LYNDHURST AVE         AGG. ASSAULT   \n",
       "9  09/02/2017  21:00:00        4E  1200 N ELLWOOD AVE       COMMON ASSAULT   \n",
       "\n",
       "  Inside/Outside   Weapon   Post      District      Neighborhood  Longitude  \\\n",
       "0              I    KNIFE  913.0      SOUTHERN          Brooklyn  -76.60541   \n",
       "1              O      NaN  133.0       CENTRAL    Reservoir Hill  -76.63217   \n",
       "2        Outside  FIREARM  524.0      NORTHERN    Winston-Govans  -76.60697   \n",
       "3              I    OTHER  934.0      SOUTHERN  Carrollton Ridge  -76.64526   \n",
       "4              O    HANDS  113.0       CENTRAL     Downtown West  -76.61365   \n",
       "5              I      NaN  922.0      SOUTHERN       Cherry Hill  -76.62131   \n",
       "6        Outside  FIREARM  232.0  SOUTHEASTERN            Canton  -76.56827   \n",
       "7              O      NaN  123.0       CENTRAL             Upton  -76.62789   \n",
       "8              O    OTHER  641.0  NORTHWESTERN     Windsor Hills  -76.68365   \n",
       "9              I    HANDS  332.0       EASTERN             Berea  -76.57419   \n",
       "\n",
       "   Latitude                       Location 1     Premise  Total Incidents  \n",
       "0  39.22951  (39.2295100000, -76.6054100000)  ROW/TOWNHO                1  \n",
       "1  39.31360  (39.3136000000, -76.6321700000)      STREET                1  \n",
       "2  39.34768  (39.3476800000, -76.6069700000)      Street                1  \n",
       "3  39.28315  (39.2831500000, -76.6452600000)  ROW/TOWNHO                1  \n",
       "4  39.28756  (39.2875600000, -76.6136500000)      STREET                1  \n",
       "5  39.24867  (39.2486700000, -76.6213100000)  ROW/TOWNHO                1  \n",
       "6  39.28202  (39.2820200000, -76.5682700000)      Street                1  \n",
       "7  39.30254  (39.3025400000, -76.6278900000)      STREET                1  \n",
       "8  39.31370  (39.3137000000, -76.6836500000)      STREET                1  \n",
       "9  39.30551  (39.3055100000, -76.5741900000)  ROW/TOWNHO                1  "
      ]
     },
     "execution_count": 136,
     "metadata": {},
     "output_type": "execute_result"
    }
   ],
   "source": [
    "crime_data.head(10)"
   ]
  },
  {
   "cell_type": "markdown",
   "metadata": {},
   "source": [
    "The data I'm primarily interested in includes the dates, times, descriptions, and places, so I'll try to get a better feel for the data included in these columns:"
   ]
  },
  {
   "cell_type": "code",
   "execution_count": 137,
   "metadata": {},
   "outputs": [
    {
     "data": {
      "text/html": [
       "<div>\n",
       "<style>\n",
       "    .dataframe thead tr:only-child th {\n",
       "        text-align: right;\n",
       "    }\n",
       "\n",
       "    .dataframe thead th {\n",
       "        text-align: left;\n",
       "    }\n",
       "\n",
       "    .dataframe tbody tr th {\n",
       "        vertical-align: top;\n",
       "    }\n",
       "</style>\n",
       "<table border=\"1\" class=\"dataframe\">\n",
       "  <thead>\n",
       "    <tr style=\"text-align: right;\">\n",
       "      <th></th>\n",
       "      <th>Post</th>\n",
       "      <th>Longitude</th>\n",
       "      <th>Latitude</th>\n",
       "      <th>Total Incidents</th>\n",
       "    </tr>\n",
       "  </thead>\n",
       "  <tbody>\n",
       "    <tr>\n",
       "      <th>count</th>\n",
       "      <td>276305.000000</td>\n",
       "      <td>274325.000000</td>\n",
       "      <td>274325.000000</td>\n",
       "      <td>276529.0</td>\n",
       "    </tr>\n",
       "    <tr>\n",
       "      <th>mean</th>\n",
       "      <td>506.256821</td>\n",
       "      <td>-76.617444</td>\n",
       "      <td>39.307399</td>\n",
       "      <td>1.0</td>\n",
       "    </tr>\n",
       "    <tr>\n",
       "      <th>std</th>\n",
       "      <td>260.735370</td>\n",
       "      <td>0.042306</td>\n",
       "      <td>0.029556</td>\n",
       "      <td>0.0</td>\n",
       "    </tr>\n",
       "    <tr>\n",
       "      <th>min</th>\n",
       "      <td>2.000000</td>\n",
       "      <td>-76.711620</td>\n",
       "      <td>39.200410</td>\n",
       "      <td>1.0</td>\n",
       "    </tr>\n",
       "    <tr>\n",
       "      <th>25%</th>\n",
       "      <td>243.000000</td>\n",
       "      <td>-76.648460</td>\n",
       "      <td>39.288330</td>\n",
       "      <td>1.0</td>\n",
       "    </tr>\n",
       "    <tr>\n",
       "      <th>50%</th>\n",
       "      <td>511.000000</td>\n",
       "      <td>-76.613960</td>\n",
       "      <td>39.303640</td>\n",
       "      <td>1.0</td>\n",
       "    </tr>\n",
       "    <tr>\n",
       "      <th>75%</th>\n",
       "      <td>731.000000</td>\n",
       "      <td>-76.587440</td>\n",
       "      <td>39.327810</td>\n",
       "      <td>1.0</td>\n",
       "    </tr>\n",
       "    <tr>\n",
       "      <th>max</th>\n",
       "      <td>945.000000</td>\n",
       "      <td>-76.528500</td>\n",
       "      <td>39.372930</td>\n",
       "      <td>1.0</td>\n",
       "    </tr>\n",
       "  </tbody>\n",
       "</table>\n",
       "</div>"
      ],
      "text/plain": [
       "                Post      Longitude       Latitude  Total Incidents\n",
       "count  276305.000000  274325.000000  274325.000000         276529.0\n",
       "mean      506.256821     -76.617444      39.307399              1.0\n",
       "std       260.735370       0.042306       0.029556              0.0\n",
       "min         2.000000     -76.711620      39.200410              1.0\n",
       "25%       243.000000     -76.648460      39.288330              1.0\n",
       "50%       511.000000     -76.613960      39.303640              1.0\n",
       "75%       731.000000     -76.587440      39.327810              1.0\n",
       "max       945.000000     -76.528500      39.372930              1.0"
      ]
     },
     "execution_count": 137,
     "metadata": {},
     "output_type": "execute_result"
    }
   ],
   "source": [
    "crime_data.describe()"
   ]
  },
  {
   "cell_type": "markdown",
   "metadata": {},
   "source": [
    "Just a quick check to ensure that the Date and Time data fall within the expected bounds:"
   ]
  },
  {
   "cell_type": "code",
   "execution_count": 138,
   "metadata": {},
   "outputs": [
    {
     "name": "stdout",
     "output_type": "stream",
     "text": [
      "01/01/2012 12/31/2016\n",
      "00:00:00 24:00:00\n"
     ]
    }
   ],
   "source": [
    "print(crime_data.CrimeDate.min(), crime_data.CrimeDate.max())\n",
    "print(crime_data.CrimeTime.min(), crime_data.CrimeTime.max())"
   ]
  },
  {
   "cell_type": "markdown",
   "metadata": {},
   "source": [
    "I'm now going to check each column I'm interested in to make sure I don't have any weird values or too many null values in any of the columns of interest:"
   ]
  },
  {
   "cell_type": "code",
   "execution_count": 139,
   "metadata": {},
   "outputs": [
    {
     "data": {
      "text/plain": [
       "LARCENY                 60528\n",
       "COMMON ASSAULT          45518\n",
       "BURGLARY                42538\n",
       "LARCENY FROM AUTO       36295\n",
       "AGG. ASSAULT            27513\n",
       "AUTO THEFT              26838\n",
       "ROBBERY - STREET        17691\n",
       "ROBBERY - COMMERCIAL     4141\n",
       "ASSAULT BY THREAT        3503\n",
       "SHOOTING                 2910\n",
       "ROBBERY - RESIDENCE      2866\n",
       "RAPE                     1637\n",
       "HOMICIDE                 1559\n",
       "ROBBERY - CARJACKING     1528\n",
       "ARSON                    1464\n",
       "Name: Description, dtype: int64"
      ]
     },
     "execution_count": 139,
     "metadata": {},
     "output_type": "execute_result"
    }
   ],
   "source": [
    "crime_data.Description.value_counts()"
   ]
  },
  {
   "cell_type": "code",
   "execution_count": 140,
   "metadata": {},
   "outputs": [
    {
     "data": {
      "text/plain": [
       "0"
      ]
     },
     "execution_count": 140,
     "metadata": {},
     "output_type": "execute_result"
    }
   ],
   "source": [
    "crime_data.Description.isnull().sum()"
   ]
  },
  {
   "cell_type": "code",
   "execution_count": 141,
   "metadata": {},
   "outputs": [
    {
     "data": {
      "text/plain": [
       "I          131999\n",
       "O          129782\n",
       "Outside      3837\n",
       "Inside        632\n",
       "Name: Inside/Outside, dtype: int64"
      ]
     },
     "execution_count": 141,
     "metadata": {},
     "output_type": "execute_result"
    }
   ],
   "source": [
    "crime_data[\"Inside/Outside\"].value_counts()"
   ]
  },
  {
   "cell_type": "code",
   "execution_count": 142,
   "metadata": {
    "collapsed": true
   },
   "outputs": [],
   "source": [
    "crime_data[\"Inside/Outside\"] = crime_data[\"Inside/Outside\"].replace({\"Outside\" : \"O\", \"Inside\" : \"I\"})"
   ]
  },
  {
   "cell_type": "code",
   "execution_count": 143,
   "metadata": {},
   "outputs": [
    {
     "data": {
      "text/plain": [
       "10279"
      ]
     },
     "execution_count": 143,
     "metadata": {},
     "output_type": "execute_result"
    }
   ],
   "source": [
    "crime_data[\"Inside/Outside\"].isnull().sum()"
   ]
  },
  {
   "cell_type": "code",
   "execution_count": 144,
   "metadata": {},
   "outputs": [
    {
     "data": {
      "text/plain": [
       "2204"
      ]
     },
     "execution_count": 144,
     "metadata": {},
     "output_type": "execute_result"
    }
   ],
   "source": [
    "crime_data.Longitude.isnull().sum()"
   ]
  },
  {
   "cell_type": "code",
   "execution_count": 145,
   "metadata": {},
   "outputs": [
    {
     "data": {
      "text/plain": [
       "2204"
      ]
     },
     "execution_count": 145,
     "metadata": {},
     "output_type": "execute_result"
    }
   ],
   "source": [
    "crime_data.Latitude.isnull().sum()"
   ]
  },
  {
   "cell_type": "code",
   "execution_count": 146,
   "metadata": {},
   "outputs": [
    {
     "data": {
      "text/plain": [
       "2204"
      ]
     },
     "execution_count": 146,
     "metadata": {},
     "output_type": "execute_result"
    }
   ],
   "source": [
    "crime_data[\"Location 1\"].isnull().sum()"
   ]
  },
  {
   "cell_type": "code",
   "execution_count": 147,
   "metadata": {},
   "outputs": [
    {
     "data": {
      "text/plain": [
       "NORTHEASTERN    43006\n",
       "SOUTHEASTERN    38291\n",
       "SOUTHERN        31850\n",
       "NORTHERN        31665\n",
       "CENTRAL         31631\n",
       "NORTHWESTERN    28061\n",
       "SOUTHWESTERN    26092\n",
       "EASTERN         23635\n",
       "WESTERN         22218\n",
       "Name: District, dtype: int64"
      ]
     },
     "execution_count": 147,
     "metadata": {},
     "output_type": "execute_result"
    }
   ],
   "source": [
    "crime_data.District.value_counts()"
   ]
  },
  {
   "cell_type": "code",
   "execution_count": 148,
   "metadata": {},
   "outputs": [
    {
     "data": {
      "text/plain": [
       "80"
      ]
     },
     "execution_count": 148,
     "metadata": {},
     "output_type": "execute_result"
    }
   ],
   "source": [
    "crime_data.District.isnull().sum()"
   ]
  },
  {
   "cell_type": "code",
   "execution_count": 149,
   "metadata": {},
   "outputs": [
    {
     "data": {
      "text/plain": [
       "Downtown                     9048\n",
       "Frankford                    6642\n",
       "Belair-Edison                5977\n",
       "Brooklyn                     4516\n",
       "Cherry Hill                  4086\n",
       "Sandtown-Winchester          4026\n",
       "Canton                       3787\n",
       "Inner Harbor                 3414\n",
       "Upton                        3385\n",
       "Patterson Park Neighborho    3368\n",
       "Fells Point                  3316\n",
       "Coldstream Homestead Mont    3307\n",
       "Hamilton Hills               3303\n",
       "Mondawmin                    3251\n",
       "Washington Village/Pigtow    3223\n",
       "McElderry Park               3004\n",
       "Central Park Heights         2960\n",
       "Mount Vernon                 2751\n",
       "Broadway East                2741\n",
       "Carrollton Ridge             2653\n",
       "Hampden                      2524\n",
       "East Baltimore Midway        2460\n",
       "Reservoir Hill               2426\n",
       "Oliver                       2376\n",
       "Ellwood Park/Monument        2364\n",
       "Mid-Town Belvedere           2362\n",
       "Harlem Park                  2172\n",
       "Charles Village              2158\n",
       "Baltimore Highlands          2104\n",
       "Better Waverly               2028\n",
       "                             ... \n",
       "Johns Hopkins Homewood        170\n",
       "Cedarcroft                    166\n",
       "Belair-Parkside               160\n",
       "Oaklee                        156\n",
       "Hawkins Point                 148\n",
       "Sabina-Mattfeldt              144\n",
       "Purnell                       138\n",
       "Wrenlane                      126\n",
       "Dickeyville                   113\n",
       "Holabird Industrial Park      107\n",
       "Evergreen                     106\n",
       "Loyola/Notre Dame              97\n",
       "Forest Park Golf Course        89\n",
       "The Orchards                   88\n",
       "Gwynns Falls/Leakin Park       83\n",
       "Keswick                        82\n",
       "Eastwood                       81\n",
       "Bellona-Gittings               76\n",
       "Spring Garden Industrial       74\n",
       "Saint Paul                     67\n",
       "Curtis Bay Industrial Are      62\n",
       "Herring Run Park               56\n",
       "Morgan Park                    46\n",
       "Lower Herring Run Park         42\n",
       "Taylor Heights                 40\n",
       "Villages Of Homeland           37\n",
       "Greenmount Cemetery            23\n",
       "Mt Pleasant Park               13\n",
       "Blythewood                      4\n",
       "Dundalk Marine Terminal         1\n",
       "Name: Neighborhood, Length: 278, dtype: int64"
      ]
     },
     "execution_count": 149,
     "metadata": {},
     "output_type": "execute_result"
    }
   ],
   "source": [
    "crime_data.Neighborhood.value_counts()"
   ]
  },
  {
   "cell_type": "markdown",
   "metadata": {},
   "source": [
    "It looks like the coordinate location data is almost entirely complete; the data set only has 2204 crimes that don't have Latitude/Longitude values, and out of a set of almost 300,000 entries, I'm not super concerned about dropping the 2204 crimes when I'm looking at geographical location. Similarly, the District entry is only missing 80, which seems reasonably small as well. The Neighborhoods column looks to have too many unique values to really work with as a geographical marker, and I don't have any real idea what the different neighborhoods in Baltimore are anyway, so I'll probably just skip using that column in my analysis. The Description column is complete, so I don't need to worry about null values there.\n",
    "\n",
    "First, I'll try to get an idea about the geographical distribution of crimes. I tried to pull in a map of Baltimore using the Basemap package, but I had trouble getting data on top of that in a reasonably readable format, so I ended up opting to simply plot the data using the Latitude and Longitude in hexbins:"
   ]
  },
  {
   "cell_type": "code",
   "execution_count": 208,
   "metadata": {},
   "outputs": [
    {
     "data": {
      "text/plain": [
       "Text(-76.6105,39.3399,'Jons Hopkins University')"
      ]
     },
     "execution_count": 208,
     "metadata": {},
     "output_type": "execute_result"
    },
    {
     "data": {
      "image/png": "[encoded data removed]",
      "text/plain": [
       "<matplotlib.figure.Figure at 0x1a37e1e4a8>"
      ]
     },
     "metadata": {},
     "output_type": "display_data"
    }
   ],
   "source": [
    "fig, ax = plt.subplots(figsize=(10,10))\n",
    "plt.hexbin(crime_data.Longitude, crime_data.Latitude, gridsize=(50,40), cmap=\"hot\")\n",
    "plt.plot(-76.6205,39.3299, marker='o', markersize=10, color='white') #maps my brother's location onto the map\n",
    "plt.colorbar()\n",
    "plt.ylabel(\"Latitude\", size = 12)\n",
    "plt.xlabel(\"Longitude\", size = 12)\n",
    "plt.title(\"Crime in Baltimore, MD\", size = 14, fontweight='bold')\n",
    "plt.annotate(\"Jons Hopkins University\", xy = (-76.6195,39.3309), xytext = (-76.6105,39.3399), arrowprops=dict(facecolor='white',shrink=0.05), color='white', size=14)"
   ]
  },
  {
   "cell_type": "markdown",
   "metadata": {},
   "source": [
    "While this chart doesn't provide much in the way of numbers, I feel like it gives a pretty good representation of relative crime rates in the area surrounding my brother's school. Being quite a bit north of the city center, my brother actually lives in one of the lower crime areas in Baltimore, which is a bit reassuring.\n",
    "\n",
    "Rather than just looking at all crime committed over almost six years, I'm also interested in looking at changes in crime over time, and at crime by time of day. To do this, I'll be adding columns corresponding to the hour, month, and year the crime was committed, pulling from the CrimeDate and CrimeTime columns:"
   ]
  },
  {
   "cell_type": "code",
   "execution_count": 151,
   "metadata": {},
   "outputs": [
    {
     "data": {
      "text/html": [
       "<div>\n",
       "<style>\n",
       "    .dataframe thead tr:only-child th {\n",
       "        text-align: right;\n",
       "    }\n",
       "\n",
       "    .dataframe thead th {\n",
       "        text-align: left;\n",
       "    }\n",
       "\n",
       "    .dataframe tbody tr th {\n",
       "        vertical-align: top;\n",
       "    }\n",
       "</style>\n",
       "<table border=\"1\" class=\"dataframe\">\n",
       "  <thead>\n",
       "    <tr style=\"text-align: right;\">\n",
       "      <th></th>\n",
       "      <th>CrimeDate</th>\n",
       "      <th>CrimeTime</th>\n",
       "      <th>CrimeCode</th>\n",
       "      <th>Location</th>\n",
       "      <th>Description</th>\n",
       "      <th>Inside/Outside</th>\n",
       "      <th>Weapon</th>\n",
       "      <th>Post</th>\n",
       "      <th>District</th>\n",
       "      <th>Neighborhood</th>\n",
       "      <th>Longitude</th>\n",
       "      <th>Latitude</th>\n",
       "      <th>Location 1</th>\n",
       "      <th>Premise</th>\n",
       "      <th>Total Incidents</th>\n",
       "      <th>Hour</th>\n",
       "      <th>Month</th>\n",
       "      <th>Year</th>\n",
       "    </tr>\n",
       "  </thead>\n",
       "  <tbody>\n",
       "    <tr>\n",
       "      <th>0</th>\n",
       "      <td>09/02/2017</td>\n",
       "      <td>23:30:00</td>\n",
       "      <td>3JK</td>\n",
       "      <td>4200 AUDREY AVE</td>\n",
       "      <td>ROBBERY - RESIDENCE</td>\n",
       "      <td>I</td>\n",
       "      <td>KNIFE</td>\n",
       "      <td>913.0</td>\n",
       "      <td>SOUTHERN</td>\n",
       "      <td>Brooklyn</td>\n",
       "      <td>-76.60541</td>\n",
       "      <td>39.22951</td>\n",
       "      <td>(39.2295100000, -76.6054100000)</td>\n",
       "      <td>ROW/TOWNHO</td>\n",
       "      <td>1</td>\n",
       "      <td>23</td>\n",
       "      <td>09</td>\n",
       "      <td>2017</td>\n",
       "    </tr>\n",
       "    <tr>\n",
       "      <th>1</th>\n",
       "      <td>09/02/2017</td>\n",
       "      <td>23:00:00</td>\n",
       "      <td>7A</td>\n",
       "      <td>800 NEWINGTON AVE</td>\n",
       "      <td>AUTO THEFT</td>\n",
       "      <td>O</td>\n",
       "      <td>NaN</td>\n",
       "      <td>133.0</td>\n",
       "      <td>CENTRAL</td>\n",
       "      <td>Reservoir Hill</td>\n",
       "      <td>-76.63217</td>\n",
       "      <td>39.31360</td>\n",
       "      <td>(39.3136000000, -76.6321700000)</td>\n",
       "      <td>STREET</td>\n",
       "      <td>1</td>\n",
       "      <td>23</td>\n",
       "      <td>09</td>\n",
       "      <td>2017</td>\n",
       "    </tr>\n",
       "    <tr>\n",
       "      <th>2</th>\n",
       "      <td>09/02/2017</td>\n",
       "      <td>22:53:00</td>\n",
       "      <td>9S</td>\n",
       "      <td>600 RADNOR AV</td>\n",
       "      <td>SHOOTING</td>\n",
       "      <td>O</td>\n",
       "      <td>FIREARM</td>\n",
       "      <td>524.0</td>\n",
       "      <td>NORTHERN</td>\n",
       "      <td>Winston-Govans</td>\n",
       "      <td>-76.60697</td>\n",
       "      <td>39.34768</td>\n",
       "      <td>(39.3476800000, -76.6069700000)</td>\n",
       "      <td>Street</td>\n",
       "      <td>1</td>\n",
       "      <td>22</td>\n",
       "      <td>09</td>\n",
       "      <td>2017</td>\n",
       "    </tr>\n",
       "    <tr>\n",
       "      <th>3</th>\n",
       "      <td>09/02/2017</td>\n",
       "      <td>22:50:00</td>\n",
       "      <td>4C</td>\n",
       "      <td>1800 RAMSAY ST</td>\n",
       "      <td>AGG. ASSAULT</td>\n",
       "      <td>I</td>\n",
       "      <td>OTHER</td>\n",
       "      <td>934.0</td>\n",
       "      <td>SOUTHERN</td>\n",
       "      <td>Carrollton Ridge</td>\n",
       "      <td>-76.64526</td>\n",
       "      <td>39.28315</td>\n",
       "      <td>(39.2831500000, -76.6452600000)</td>\n",
       "      <td>ROW/TOWNHO</td>\n",
       "      <td>1</td>\n",
       "      <td>22</td>\n",
       "      <td>09</td>\n",
       "      <td>2017</td>\n",
       "    </tr>\n",
       "    <tr>\n",
       "      <th>4</th>\n",
       "      <td>09/02/2017</td>\n",
       "      <td>22:31:00</td>\n",
       "      <td>4E</td>\n",
       "      <td>100 LIGHT ST</td>\n",
       "      <td>COMMON ASSAULT</td>\n",
       "      <td>O</td>\n",
       "      <td>HANDS</td>\n",
       "      <td>113.0</td>\n",
       "      <td>CENTRAL</td>\n",
       "      <td>Downtown West</td>\n",
       "      <td>-76.61365</td>\n",
       "      <td>39.28756</td>\n",
       "      <td>(39.2875600000, -76.6136500000)</td>\n",
       "      <td>STREET</td>\n",
       "      <td>1</td>\n",
       "      <td>22</td>\n",
       "      <td>09</td>\n",
       "      <td>2017</td>\n",
       "    </tr>\n",
       "    <tr>\n",
       "      <th>5</th>\n",
       "      <td>09/02/2017</td>\n",
       "      <td>22:00:00</td>\n",
       "      <td>5A</td>\n",
       "      <td>CHERRYCREST RD</td>\n",
       "      <td>BURGLARY</td>\n",
       "      <td>I</td>\n",
       "      <td>NaN</td>\n",
       "      <td>922.0</td>\n",
       "      <td>SOUTHERN</td>\n",
       "      <td>Cherry Hill</td>\n",
       "      <td>-76.62131</td>\n",
       "      <td>39.24867</td>\n",
       "      <td>(39.2486700000, -76.6213100000)</td>\n",
       "      <td>ROW/TOWNHO</td>\n",
       "      <td>1</td>\n",
       "      <td>22</td>\n",
       "      <td>09</td>\n",
       "      <td>2017</td>\n",
       "    </tr>\n",
       "    <tr>\n",
       "      <th>6</th>\n",
       "      <td>09/02/2017</td>\n",
       "      <td>21:15:00</td>\n",
       "      <td>1F</td>\n",
       "      <td>3400 HARMONY CT</td>\n",
       "      <td>HOMICIDE</td>\n",
       "      <td>O</td>\n",
       "      <td>FIREARM</td>\n",
       "      <td>232.0</td>\n",
       "      <td>SOUTHEASTERN</td>\n",
       "      <td>Canton</td>\n",
       "      <td>-76.56827</td>\n",
       "      <td>39.28202</td>\n",
       "      <td>(39.2820200000, -76.5682700000)</td>\n",
       "      <td>Street</td>\n",
       "      <td>1</td>\n",
       "      <td>21</td>\n",
       "      <td>09</td>\n",
       "      <td>2017</td>\n",
       "    </tr>\n",
       "    <tr>\n",
       "      <th>7</th>\n",
       "      <td>09/02/2017</td>\n",
       "      <td>21:35:00</td>\n",
       "      <td>3B</td>\n",
       "      <td>400 W LANVALE ST</td>\n",
       "      <td>ROBBERY - STREET</td>\n",
       "      <td>O</td>\n",
       "      <td>NaN</td>\n",
       "      <td>123.0</td>\n",
       "      <td>CENTRAL</td>\n",
       "      <td>Upton</td>\n",
       "      <td>-76.62789</td>\n",
       "      <td>39.30254</td>\n",
       "      <td>(39.3025400000, -76.6278900000)</td>\n",
       "      <td>STREET</td>\n",
       "      <td>1</td>\n",
       "      <td>21</td>\n",
       "      <td>09</td>\n",
       "      <td>2017</td>\n",
       "    </tr>\n",
       "    <tr>\n",
       "      <th>8</th>\n",
       "      <td>09/02/2017</td>\n",
       "      <td>21:00:00</td>\n",
       "      <td>4C</td>\n",
       "      <td>2300 LYNDHURST AVE</td>\n",
       "      <td>AGG. ASSAULT</td>\n",
       "      <td>O</td>\n",
       "      <td>OTHER</td>\n",
       "      <td>641.0</td>\n",
       "      <td>NORTHWESTERN</td>\n",
       "      <td>Windsor Hills</td>\n",
       "      <td>-76.68365</td>\n",
       "      <td>39.31370</td>\n",
       "      <td>(39.3137000000, -76.6836500000)</td>\n",
       "      <td>STREET</td>\n",
       "      <td>1</td>\n",
       "      <td>21</td>\n",
       "      <td>09</td>\n",
       "      <td>2017</td>\n",
       "    </tr>\n",
       "    <tr>\n",
       "      <th>9</th>\n",
       "      <td>09/02/2017</td>\n",
       "      <td>21:00:00</td>\n",
       "      <td>4E</td>\n",
       "      <td>1200 N ELLWOOD AVE</td>\n",
       "      <td>COMMON ASSAULT</td>\n",
       "      <td>I</td>\n",
       "      <td>HANDS</td>\n",
       "      <td>332.0</td>\n",
       "      <td>EASTERN</td>\n",
       "      <td>Berea</td>\n",
       "      <td>-76.57419</td>\n",
       "      <td>39.30551</td>\n",
       "      <td>(39.3055100000, -76.5741900000)</td>\n",
       "      <td>ROW/TOWNHO</td>\n",
       "      <td>1</td>\n",
       "      <td>21</td>\n",
       "      <td>09</td>\n",
       "      <td>2017</td>\n",
       "    </tr>\n",
       "  </tbody>\n",
       "</table>\n",
       "</div>"
      ],
      "text/plain": [
       "    CrimeDate CrimeTime CrimeCode            Location          Description  \\\n",
       "0  09/02/2017  23:30:00       3JK     4200 AUDREY AVE  ROBBERY - RESIDENCE   \n",
       "1  09/02/2017  23:00:00        7A   800 NEWINGTON AVE           AUTO THEFT   \n",
       "2  09/02/2017  22:53:00        9S       600 RADNOR AV             SHOOTING   \n",
       "3  09/02/2017  22:50:00        4C      1800 RAMSAY ST         AGG. ASSAULT   \n",
       "4  09/02/2017  22:31:00        4E        100 LIGHT ST       COMMON ASSAULT   \n",
       "5  09/02/2017  22:00:00        5A      CHERRYCREST RD             BURGLARY   \n",
       "6  09/02/2017  21:15:00        1F     3400 HARMONY CT             HOMICIDE   \n",
       "7  09/02/2017  21:35:00        3B    400 W LANVALE ST     ROBBERY - STREET   \n",
       "8  09/02/2017  21:00:00        4C  2300 LYNDHURST AVE         AGG. ASSAULT   \n",
       "9  09/02/2017  21:00:00        4E  1200 N ELLWOOD AVE       COMMON ASSAULT   \n",
       "\n",
       "  Inside/Outside   Weapon   Post      District      Neighborhood  Longitude  \\\n",
       "0              I    KNIFE  913.0      SOUTHERN          Brooklyn  -76.60541   \n",
       "1              O      NaN  133.0       CENTRAL    Reservoir Hill  -76.63217   \n",
       "2              O  FIREARM  524.0      NORTHERN    Winston-Govans  -76.60697   \n",
       "3              I    OTHER  934.0      SOUTHERN  Carrollton Ridge  -76.64526   \n",
       "4              O    HANDS  113.0       CENTRAL     Downtown West  -76.61365   \n",
       "5              I      NaN  922.0      SOUTHERN       Cherry Hill  -76.62131   \n",
       "6              O  FIREARM  232.0  SOUTHEASTERN            Canton  -76.56827   \n",
       "7              O      NaN  123.0       CENTRAL             Upton  -76.62789   \n",
       "8              O    OTHER  641.0  NORTHWESTERN     Windsor Hills  -76.68365   \n",
       "9              I    HANDS  332.0       EASTERN             Berea  -76.57419   \n",
       "\n",
       "   Latitude                       Location 1     Premise  Total Incidents  \\\n",
       "0  39.22951  (39.2295100000, -76.6054100000)  ROW/TOWNHO                1   \n",
       "1  39.31360  (39.3136000000, -76.6321700000)      STREET                1   \n",
       "2  39.34768  (39.3476800000, -76.6069700000)      Street                1   \n",
       "3  39.28315  (39.2831500000, -76.6452600000)  ROW/TOWNHO                1   \n",
       "4  39.28756  (39.2875600000, -76.6136500000)      STREET                1   \n",
       "5  39.24867  (39.2486700000, -76.6213100000)  ROW/TOWNHO                1   \n",
       "6  39.28202  (39.2820200000, -76.5682700000)      Street                1   \n",
       "7  39.30254  (39.3025400000, -76.6278900000)      STREET                1   \n",
       "8  39.31370  (39.3137000000, -76.6836500000)      STREET                1   \n",
       "9  39.30551  (39.3055100000, -76.5741900000)  ROW/TOWNHO                1   \n",
       "\n",
       "  Hour Month  Year  \n",
       "0   23    09  2017  \n",
       "1   23    09  2017  \n",
       "2   22    09  2017  \n",
       "3   22    09  2017  \n",
       "4   22    09  2017  \n",
       "5   22    09  2017  \n",
       "6   21    09  2017  \n",
       "7   21    09  2017  \n",
       "8   21    09  2017  \n",
       "9   21    09  2017  "
      ]
     },
     "execution_count": 151,
     "metadata": {},
     "output_type": "execute_result"
    }
   ],
   "source": [
    "Hour = []\n",
    "for i in range(0,crime_data.CrimeTime.size):\n",
    "    Hour.append(crime_data.CrimeTime[i].partition(\":\")[0])\n",
    "Hour = pd.Series(Hour)\n",
    "crime_data['Hour'] = Hour\n",
    "\n",
    "Month = []\n",
    "for i in range(0,crime_data.CrimeDate.size):\n",
    "    Month.append(crime_data.CrimeDate[i].partition(\"/\")[0])\n",
    "Month = pd.Series(Month)\n",
    "crime_data['Month'] = Month\n",
    "\n",
    "Year = []\n",
    "for i in range(0,crime_data.CrimeDate.size):\n",
    "    Year.append(crime_data.CrimeDate[i].partition(\"/\")[2].partition(\"/\")[2])\n",
    "Year = pd.Series(Year)\n",
    "crime_data['Year'] = Year\n",
    "\n",
    "crime_data.head(10)"
   ]
  },
  {
   "cell_type": "code",
   "execution_count": 209,
   "metadata": {},
   "outputs": [
    {
     "data": {
      "text/plain": [
       "(0, 24)"
      ]
     },
     "execution_count": 209,
     "metadata": {},
     "output_type": "execute_result"
    },
    {
     "data": {
      "image/png": "[encoded data removed]",
      "text/plain": [
       "<matplotlib.figure.Figure at 0x1a39d832b0>"
      ]
     },
     "metadata": {},
     "output_type": "display_data"
    }
   ],
   "source": [
    "fig, ax = plt.subplots(figsize=(12,8))\n",
    "sns.distplot(pd.to_numeric(crime_data.Hour), kde=False, bins=24, hist_kws=dict(edgecolor='k'), color='red')\n",
    "plt.ylabel('# of crimes committed', size=12)\n",
    "plt.xlabel('Time of Day', size=12)\n",
    "plt.title('Crimes Committed by Time of Day', size=14, fontweight='bold')\n",
    "plt.gca().set_xlim([0,24])"
   ]
  },
  {
   "cell_type": "code",
   "execution_count": 210,
   "metadata": {},
   "outputs": [
    {
     "data": {
      "text/plain": [
       "(0, 32500)"
      ]
     },
     "execution_count": 210,
     "metadata": {},
     "output_type": "execute_result"
    },
    {
     "data": {
      "image/png": "[encoded data removed]",
      "text/plain": [
       "<matplotlib.figure.Figure at 0x1a143889b0>"
      ]
     },
     "metadata": {},
     "output_type": "display_data"
    }
   ],
   "source": [
    "fig, ax = plt.subplots(figsize=(12,8))\n",
    "sns.distplot(pd.to_numeric(crime_data.Month), kde=False, bins=12, hist_kws=dict(edgecolor='k'), color='red')\n",
    "plt.ylabel('# of crimes committed', size=12)\n",
    "plt.xlabel('Month', size=12)\n",
    "plt.title('Crimes Committed by Month of the Year', size=14, fontweight='bold')\n",
    "plt.gca().set_xlim([1,12])\n",
    "plt.gca().set_ylim([0,32500])"
   ]
  },
  {
   "cell_type": "code",
   "execution_count": 211,
   "metadata": {},
   "outputs": [
    {
     "data": {
      "text/plain": [
       "Text(0.5,1,'Aggregate Crimes Committed Over Time')"
      ]
     },
     "execution_count": 211,
     "metadata": {},
     "output_type": "execute_result"
    },
    {
     "data": {
      "image/png": "[encoded data removed]",
      "text/plain": [
       "<matplotlib.figure.Figure at 0x1a143e8940>"
      ]
     },
     "metadata": {},
     "output_type": "display_data"
    }
   ],
   "source": [
    "fig, ax = plt.subplots(figsize=(12,8))\n",
    "sns.distplot(pd.to_datetime(crime_data.CrimeDate), kde=False, bins=24, hist_kws=dict(edgecolor='k'), color='red')\n",
    "plt.ylabel('# of crimes committed', size=12)\n",
    "plt.xlabel('Year', size=12)\n",
    "plt.title('Aggregate Crimes Committed Over Time', size=14, fontweight='bold')"
   ]
  },
  {
   "cell_type": "markdown",
   "metadata": {},
   "source": [
    "These graphs tell us a few things about crime in Baltimore, most of which are easily explainable. Crime rates are much higher in the evening and afternoon, and fall to their lowest point in the early hours of the morning. Slightly more crimes are committed during the summer months of the year; while there's no way to demonstrate this from the data, I'd guess that this is likely due to school being out of session: in general, more crime is commmitted by teenagers on days when they don't have school, and they probably significantly contribute to the observed increase. I'd hoped that crime rates would be declining over time -that Baltimore would be becoming a safer place- but the graph showing crimes committed over time unfortunately indicates that this isn't the case: while there are perios of significantly lower crime, at least in the last five years, the overall number of crimes committed doesn't appear to be falling.\n",
    "\n",
    "While quite a large dataset, the limited scope of time it encompassed was a little limiting. But while longer term trends couldn't really be examined, the inclusion of coordinates in the crime data allowed for a more full look at how different areas of Baltimore suffer from extremely different levels of crime."
   ]
  },
  {
   "cell_type": "markdown",
   "metadata": {
    "collapsed": true
   },
   "source": [
    "### World Wealth and Income Database (STATA files)"
   ]
  },
  {
   "cell_type": "markdown",
   "metadata": {},
   "source": [
    "One of the preeminent economists in the field of historical and contemporary income and wealth inequality is Thomas Picketty, who in conjunction with several colleagues maintain an enormous collection of data cataloguing income and wealth disparities around the world over time. I pulled data as a .stata file directly from the database for the United States from 1913-2014. I pulled two data files showing distributions of wealth and income over that time, bucketed into percentiles (0-50%, 50-90%, 90-100% and 99-100%)."
   ]
  },
  {
   "cell_type": "code",
   "execution_count": 155,
   "metadata": {
    "collapsed": true
   },
   "outputs": [],
   "source": [
    "wealth = pd.read_stata('WID_Data_Wealth.stata')\n",
    "income = pd.read_stata('WID_Data_Income.stata')"
   ]
  },
  {
   "cell_type": "code",
   "execution_count": 188,
   "metadata": {},
   "outputs": [
    {
     "data": {
      "text/html": [
       "<div>\n",
       "<style>\n",
       "    .dataframe thead tr:only-child th {\n",
       "        text-align: right;\n",
       "    }\n",
       "\n",
       "    .dataframe thead th {\n",
       "        text-align: left;\n",
       "    }\n",
       "\n",
       "    .dataframe tbody tr th {\n",
       "        vertical-align: top;\n",
       "    }\n",
       "</style>\n",
       "<table border=\"1\" class=\"dataframe\">\n",
       "  <thead>\n",
       "    <tr style=\"text-align: right;\">\n",
       "      <th></th>\n",
       "      <th>Percentile</th>\n",
       "      <th>Year</th>\n",
       "      <th>Wealth</th>\n",
       "    </tr>\n",
       "  </thead>\n",
       "  <tbody>\n",
       "    <tr>\n",
       "      <th>0</th>\n",
       "      <td>p90p100</td>\n",
       "      <td>1913</td>\n",
       "      <td>0.784437</td>\n",
       "    </tr>\n",
       "    <tr>\n",
       "      <th>1</th>\n",
       "      <td>p90p100</td>\n",
       "      <td>1914</td>\n",
       "      <td>0.783294</td>\n",
       "    </tr>\n",
       "    <tr>\n",
       "      <th>2</th>\n",
       "      <td>p90p100</td>\n",
       "      <td>1915</td>\n",
       "      <td>0.779675</td>\n",
       "    </tr>\n",
       "    <tr>\n",
       "      <th>3</th>\n",
       "      <td>p90p100</td>\n",
       "      <td>1916</td>\n",
       "      <td>0.782181</td>\n",
       "    </tr>\n",
       "    <tr>\n",
       "      <th>4</th>\n",
       "      <td>p90p100</td>\n",
       "      <td>1917</td>\n",
       "      <td>0.783062</td>\n",
       "    </tr>\n",
       "    <tr>\n",
       "      <th>5</th>\n",
       "      <td>p90p100</td>\n",
       "      <td>1918</td>\n",
       "      <td>0.785695</td>\n",
       "    </tr>\n",
       "    <tr>\n",
       "      <th>6</th>\n",
       "      <td>p90p100</td>\n",
       "      <td>1919</td>\n",
       "      <td>0.800783</td>\n",
       "    </tr>\n",
       "    <tr>\n",
       "      <th>7</th>\n",
       "      <td>p90p100</td>\n",
       "      <td>1920</td>\n",
       "      <td>0.780981</td>\n",
       "    </tr>\n",
       "    <tr>\n",
       "      <th>8</th>\n",
       "      <td>p90p100</td>\n",
       "      <td>1921</td>\n",
       "      <td>0.779898</td>\n",
       "    </tr>\n",
       "    <tr>\n",
       "      <th>9</th>\n",
       "      <td>p90p100</td>\n",
       "      <td>1922</td>\n",
       "      <td>0.792384</td>\n",
       "    </tr>\n",
       "  </tbody>\n",
       "</table>\n",
       "</div>"
      ],
      "text/plain": [
       "  Percentile  Year    Wealth\n",
       "0    p90p100  1913  0.784437\n",
       "1    p90p100  1914  0.783294\n",
       "2    p90p100  1915  0.779675\n",
       "3    p90p100  1916  0.782181\n",
       "4    p90p100  1917  0.783062\n",
       "5    p90p100  1918  0.785695\n",
       "6    p90p100  1919  0.800783\n",
       "7    p90p100  1920  0.780981\n",
       "8    p90p100  1921  0.779898\n",
       "9    p90p100  1922  0.792384"
      ]
     },
     "execution_count": 188,
     "metadata": {},
     "output_type": "execute_result"
    }
   ],
   "source": [
    "wealth.head(10)"
   ]
  },
  {
   "cell_type": "code",
   "execution_count": 157,
   "metadata": {},
   "outputs": [
    {
     "data": {
      "text/html": [
       "<div>\n",
       "<style>\n",
       "    .dataframe thead tr:only-child th {\n",
       "        text-align: right;\n",
       "    }\n",
       "\n",
       "    .dataframe thead th {\n",
       "        text-align: left;\n",
       "    }\n",
       "\n",
       "    .dataframe tbody tr th {\n",
       "        vertical-align: top;\n",
       "    }\n",
       "</style>\n",
       "<table border=\"1\" class=\"dataframe\">\n",
       "  <thead>\n",
       "    <tr style=\"text-align: right;\">\n",
       "      <th></th>\n",
       "      <th>Percentile</th>\n",
       "      <th>Year</th>\n",
       "      <th>sptinc_z_US_Pre_tax_national_inc</th>\n",
       "    </tr>\n",
       "  </thead>\n",
       "  <tbody>\n",
       "    <tr>\n",
       "      <th>0</th>\n",
       "      <td>p90p100</td>\n",
       "      <td>1913</td>\n",
       "      <td>0.423099</td>\n",
       "    </tr>\n",
       "    <tr>\n",
       "      <th>1</th>\n",
       "      <td>p90p100</td>\n",
       "      <td>1914</td>\n",
       "      <td>0.429537</td>\n",
       "    </tr>\n",
       "    <tr>\n",
       "      <th>2</th>\n",
       "      <td>p90p100</td>\n",
       "      <td>1915</td>\n",
       "      <td>0.421882</td>\n",
       "    </tr>\n",
       "    <tr>\n",
       "      <th>3</th>\n",
       "      <td>p90p100</td>\n",
       "      <td>1916</td>\n",
       "      <td>0.443884</td>\n",
       "    </tr>\n",
       "    <tr>\n",
       "      <th>4</th>\n",
       "      <td>p90p100</td>\n",
       "      <td>1917</td>\n",
       "      <td>0.449020</td>\n",
       "    </tr>\n",
       "    <tr>\n",
       "      <th>5</th>\n",
       "      <td>p90p100</td>\n",
       "      <td>1918</td>\n",
       "      <td>0.436379</td>\n",
       "    </tr>\n",
       "    <tr>\n",
       "      <th>6</th>\n",
       "      <td>p90p100</td>\n",
       "      <td>1919</td>\n",
       "      <td>0.454347</td>\n",
       "    </tr>\n",
       "    <tr>\n",
       "      <th>7</th>\n",
       "      <td>p90p100</td>\n",
       "      <td>1920</td>\n",
       "      <td>0.434386</td>\n",
       "    </tr>\n",
       "    <tr>\n",
       "      <th>8</th>\n",
       "      <td>p90p100</td>\n",
       "      <td>1921</td>\n",
       "      <td>0.465281</td>\n",
       "    </tr>\n",
       "    <tr>\n",
       "      <th>9</th>\n",
       "      <td>p90p100</td>\n",
       "      <td>1922</td>\n",
       "      <td>0.455366</td>\n",
       "    </tr>\n",
       "  </tbody>\n",
       "</table>\n",
       "</div>"
      ],
      "text/plain": [
       "  Percentile  Year  sptinc_z_US_Pre_tax_national_inc\n",
       "0    p90p100  1913                          0.423099\n",
       "1    p90p100  1914                          0.429537\n",
       "2    p90p100  1915                          0.421882\n",
       "3    p90p100  1916                          0.443884\n",
       "4    p90p100  1917                          0.449020\n",
       "5    p90p100  1918                          0.436379\n",
       "6    p90p100  1919                          0.454347\n",
       "7    p90p100  1920                          0.434386\n",
       "8    p90p100  1921                          0.465281\n",
       "9    p90p100  1922                          0.455366"
      ]
     },
     "execution_count": 157,
     "metadata": {},
     "output_type": "execute_result"
    }
   ],
   "source": [
    "income.head(10)"
   ]
  },
  {
   "cell_type": "code",
   "execution_count": 158,
   "metadata": {},
   "outputs": [
    {
     "data": {
      "text/plain": [
       "p50p90     102\n",
       "p90p100    102\n",
       "p0p50      102\n",
       "p99p100    102\n",
       "Name: Percentile, dtype: int64"
      ]
     },
     "execution_count": 158,
     "metadata": {},
     "output_type": "execute_result"
    }
   ],
   "source": [
    "income.Percentile.value_counts()"
   ]
  },
  {
   "cell_type": "code",
   "execution_count": 159,
   "metadata": {},
   "outputs": [
    {
     "data": {
      "text/plain": [
       "p50p90     102\n",
       "p90p100    102\n",
       "p0p50      102\n",
       "p99p100    102\n",
       "Name: Percentile, dtype: int64"
      ]
     },
     "execution_count": 159,
     "metadata": {},
     "output_type": "execute_result"
    }
   ],
   "source": [
    "wealth.Percentile.value_counts()"
   ]
  },
  {
   "cell_type": "code",
   "execution_count": 193,
   "metadata": {},
   "outputs": [
    {
     "data": {
      "text/plain": [
       "('p90p100', 'p50p90', 'p0p50', 'p99p100')"
      ]
     },
     "execution_count": 193,
     "metadata": {},
     "output_type": "execute_result"
    }
   ],
   "source": [
    "income.Percentile[0], income.Percentile[102], income.Percentile[204], income.Percentile[306]"
   ]
  },
  {
   "cell_type": "code",
   "execution_count": 194,
   "metadata": {},
   "outputs": [
    {
     "data": {
      "text/plain": [
       "('p90p100', 'p50p90', 'p0p50', 'p99p100')"
      ]
     },
     "execution_count": 194,
     "metadata": {},
     "output_type": "execute_result"
    }
   ],
   "source": [
    "wealth.Percentile[0], wealth.Percentile[102], wealth.Percentile[204], wealth.Percentile[306]"
   ]
  },
  {
   "cell_type": "markdown",
   "metadata": {},
   "source": [
    "The data seems stacked into just the three columns, and I'll need the data separated into the percentile brackets I pulled. I'll also rename the third columns in each data set to be a bit more legible."
   ]
  },
  {
   "cell_type": "code",
   "execution_count": 195,
   "metadata": {
    "collapsed": true
   },
   "outputs": [],
   "source": [
    "wealth.columns = ['Percentile','Year','Wealth']\n",
    "income.columns = ['Percentile','Year','Income']\n",
    "\n",
    "wealth_90_100 = wealth[:][0:102]\n",
    "wealth_50_90 = wealth[:][102:204]\n",
    "wealth_0_50 = wealth[:][204:306]\n",
    "wealth_99_100 = wealth[:][306:408]\n",
    "\n",
    "income_90_100 = income[:][0:102]\n",
    "income_50_90 = income[:][102:204]\n",
    "income_0_50 = income[:][204:306]\n",
    "income_99_100 = income[:][306:408]"
   ]
  },
  {
   "cell_type": "code",
   "execution_count": 196,
   "metadata": {},
   "outputs": [
    {
     "data": {
      "text/html": [
       "<div>\n",
       "<style>\n",
       "    .dataframe thead tr:only-child th {\n",
       "        text-align: right;\n",
       "    }\n",
       "\n",
       "    .dataframe thead th {\n",
       "        text-align: left;\n",
       "    }\n",
       "\n",
       "    .dataframe tbody tr th {\n",
       "        vertical-align: top;\n",
       "    }\n",
       "</style>\n",
       "<table border=\"1\" class=\"dataframe\">\n",
       "  <thead>\n",
       "    <tr style=\"text-align: right;\">\n",
       "      <th></th>\n",
       "      <th>Year</th>\n",
       "      <th>Wealth</th>\n",
       "    </tr>\n",
       "  </thead>\n",
       "  <tbody>\n",
       "    <tr>\n",
       "      <th>count</th>\n",
       "      <td>102.000000</td>\n",
       "      <td>53.000000</td>\n",
       "    </tr>\n",
       "    <tr>\n",
       "      <th>mean</th>\n",
       "      <td>1963.500000</td>\n",
       "      <td>0.009133</td>\n",
       "    </tr>\n",
       "    <tr>\n",
       "      <th>std</th>\n",
       "      <td>29.588849</td>\n",
       "      <td>0.009989</td>\n",
       "    </tr>\n",
       "    <tr>\n",
       "      <th>min</th>\n",
       "      <td>1913.000000</td>\n",
       "      <td>-0.019720</td>\n",
       "    </tr>\n",
       "    <tr>\n",
       "      <th>25%</th>\n",
       "      <td>1938.250000</td>\n",
       "      <td>0.007260</td>\n",
       "    </tr>\n",
       "    <tr>\n",
       "      <th>50%</th>\n",
       "      <td>1963.500000</td>\n",
       "      <td>0.009670</td>\n",
       "    </tr>\n",
       "    <tr>\n",
       "      <th>75%</th>\n",
       "      <td>1988.750000</td>\n",
       "      <td>0.015018</td>\n",
       "    </tr>\n",
       "    <tr>\n",
       "      <th>max</th>\n",
       "      <td>2014.000000</td>\n",
       "      <td>0.024090</td>\n",
       "    </tr>\n",
       "  </tbody>\n",
       "</table>\n",
       "</div>"
      ],
      "text/plain": [
       "              Year     Wealth\n",
       "count   102.000000  53.000000\n",
       "mean   1963.500000   0.009133\n",
       "std      29.588849   0.009989\n",
       "min    1913.000000  -0.019720\n",
       "25%    1938.250000   0.007260\n",
       "50%    1963.500000   0.009670\n",
       "75%    1988.750000   0.015018\n",
       "max    2014.000000   0.024090"
      ]
     },
     "execution_count": 196,
     "metadata": {},
     "output_type": "execute_result"
    }
   ],
   "source": [
    "wealth_0_50.describe()"
   ]
  },
  {
   "cell_type": "code",
   "execution_count": 197,
   "metadata": {},
   "outputs": [
    {
     "data": {
      "text/html": [
       "<div>\n",
       "<style>\n",
       "    .dataframe thead tr:only-child th {\n",
       "        text-align: right;\n",
       "    }\n",
       "\n",
       "    .dataframe thead th {\n",
       "        text-align: left;\n",
       "    }\n",
       "\n",
       "    .dataframe tbody tr th {\n",
       "        vertical-align: top;\n",
       "    }\n",
       "</style>\n",
       "<table border=\"1\" class=\"dataframe\">\n",
       "  <thead>\n",
       "    <tr style=\"text-align: right;\">\n",
       "      <th></th>\n",
       "      <th>Year</th>\n",
       "      <th>Wealth</th>\n",
       "    </tr>\n",
       "  </thead>\n",
       "  <tbody>\n",
       "    <tr>\n",
       "      <th>count</th>\n",
       "      <td>102.000000</td>\n",
       "      <td>53.000000</td>\n",
       "    </tr>\n",
       "    <tr>\n",
       "      <th>mean</th>\n",
       "      <td>1963.500000</td>\n",
       "      <td>0.312553</td>\n",
       "    </tr>\n",
       "    <tr>\n",
       "      <th>std</th>\n",
       "      <td>29.588849</td>\n",
       "      <td>0.028600</td>\n",
       "    </tr>\n",
       "    <tr>\n",
       "      <th>min</th>\n",
       "      <td>1913.000000</td>\n",
       "      <td>0.265830</td>\n",
       "    </tr>\n",
       "    <tr>\n",
       "      <th>25%</th>\n",
       "      <td>1938.250000</td>\n",
       "      <td>0.287220</td>\n",
       "    </tr>\n",
       "    <tr>\n",
       "      <th>50%</th>\n",
       "      <td>1963.500000</td>\n",
       "      <td>0.312040</td>\n",
       "    </tr>\n",
       "    <tr>\n",
       "      <th>75%</th>\n",
       "      <td>1988.750000</td>\n",
       "      <td>0.337050</td>\n",
       "    </tr>\n",
       "    <tr>\n",
       "      <th>max</th>\n",
       "      <td>2014.000000</td>\n",
       "      <td>0.364460</td>\n",
       "    </tr>\n",
       "  </tbody>\n",
       "</table>\n",
       "</div>"
      ],
      "text/plain": [
       "              Year     Wealth\n",
       "count   102.000000  53.000000\n",
       "mean   1963.500000   0.312553\n",
       "std      29.588849   0.028600\n",
       "min    1913.000000   0.265830\n",
       "25%    1938.250000   0.287220\n",
       "50%    1963.500000   0.312040\n",
       "75%    1988.750000   0.337050\n",
       "max    2014.000000   0.364460"
      ]
     },
     "execution_count": 197,
     "metadata": {},
     "output_type": "execute_result"
    }
   ],
   "source": [
    "wealth_50_90.describe()"
   ]
  },
  {
   "cell_type": "code",
   "execution_count": 198,
   "metadata": {},
   "outputs": [
    {
     "data": {
      "text/html": [
       "<div>\n",
       "<style>\n",
       "    .dataframe thead tr:only-child th {\n",
       "        text-align: right;\n",
       "    }\n",
       "\n",
       "    .dataframe thead th {\n",
       "        text-align: left;\n",
       "    }\n",
       "\n",
       "    .dataframe tbody tr th {\n",
       "        vertical-align: top;\n",
       "    }\n",
       "</style>\n",
       "<table border=\"1\" class=\"dataframe\">\n",
       "  <thead>\n",
       "    <tr style=\"text-align: right;\">\n",
       "      <th></th>\n",
       "      <th>Year</th>\n",
       "      <th>Wealth</th>\n",
       "    </tr>\n",
       "  </thead>\n",
       "  <tbody>\n",
       "    <tr>\n",
       "      <th>count</th>\n",
       "      <td>102.000000</td>\n",
       "      <td>102.000000</td>\n",
       "    </tr>\n",
       "    <tr>\n",
       "      <th>mean</th>\n",
       "      <td>1963.500000</td>\n",
       "      <td>0.718428</td>\n",
       "    </tr>\n",
       "    <tr>\n",
       "      <th>std</th>\n",
       "      <td>29.588849</td>\n",
       "      <td>0.064665</td>\n",
       "    </tr>\n",
       "    <tr>\n",
       "      <th>min</th>\n",
       "      <td>1913.000000</td>\n",
       "      <td>0.613780</td>\n",
       "    </tr>\n",
       "    <tr>\n",
       "      <th>25%</th>\n",
       "      <td>1938.250000</td>\n",
       "      <td>0.677647</td>\n",
       "    </tr>\n",
       "    <tr>\n",
       "      <th>50%</th>\n",
       "      <td>1963.500000</td>\n",
       "      <td>0.699650</td>\n",
       "    </tr>\n",
       "    <tr>\n",
       "      <th>75%</th>\n",
       "      <td>1988.750000</td>\n",
       "      <td>0.779843</td>\n",
       "    </tr>\n",
       "    <tr>\n",
       "      <th>max</th>\n",
       "      <td>2014.000000</td>\n",
       "      <td>0.848006</td>\n",
       "    </tr>\n",
       "  </tbody>\n",
       "</table>\n",
       "</div>"
      ],
      "text/plain": [
       "              Year      Wealth\n",
       "count   102.000000  102.000000\n",
       "mean   1963.500000    0.718428\n",
       "std      29.588849    0.064665\n",
       "min    1913.000000    0.613780\n",
       "25%    1938.250000    0.677647\n",
       "50%    1963.500000    0.699650\n",
       "75%    1988.750000    0.779843\n",
       "max    2014.000000    0.848006"
      ]
     },
     "execution_count": 198,
     "metadata": {},
     "output_type": "execute_result"
    }
   ],
   "source": [
    "wealth_90_100.describe()"
   ]
  },
  {
   "cell_type": "code",
   "execution_count": 199,
   "metadata": {},
   "outputs": [
    {
     "data": {
      "text/html": [
       "<div>\n",
       "<style>\n",
       "    .dataframe thead tr:only-child th {\n",
       "        text-align: right;\n",
       "    }\n",
       "\n",
       "    .dataframe thead th {\n",
       "        text-align: left;\n",
       "    }\n",
       "\n",
       "    .dataframe tbody tr th {\n",
       "        vertical-align: top;\n",
       "    }\n",
       "</style>\n",
       "<table border=\"1\" class=\"dataframe\">\n",
       "  <thead>\n",
       "    <tr style=\"text-align: right;\">\n",
       "      <th></th>\n",
       "      <th>Year</th>\n",
       "      <th>Wealth</th>\n",
       "    </tr>\n",
       "  </thead>\n",
       "  <tbody>\n",
       "    <tr>\n",
       "      <th>count</th>\n",
       "      <td>102.000000</td>\n",
       "      <td>102.000000</td>\n",
       "    </tr>\n",
       "    <tr>\n",
       "      <th>mean</th>\n",
       "      <td>1963.500000</td>\n",
       "      <td>0.326238</td>\n",
       "    </tr>\n",
       "    <tr>\n",
       "      <th>std</th>\n",
       "      <td>29.588849</td>\n",
       "      <td>0.066723</td>\n",
       "    </tr>\n",
       "    <tr>\n",
       "      <th>min</th>\n",
       "      <td>1913.000000</td>\n",
       "      <td>0.219570</td>\n",
       "    </tr>\n",
       "    <tr>\n",
       "      <th>25%</th>\n",
       "      <td>1938.250000</td>\n",
       "      <td>0.275326</td>\n",
       "    </tr>\n",
       "    <tr>\n",
       "      <th>50%</th>\n",
       "      <td>1963.500000</td>\n",
       "      <td>0.307345</td>\n",
       "    </tr>\n",
       "    <tr>\n",
       "      <th>75%</th>\n",
       "      <td>1988.750000</td>\n",
       "      <td>0.382319</td>\n",
       "    </tr>\n",
       "    <tr>\n",
       "      <th>max</th>\n",
       "      <td>2014.000000</td>\n",
       "      <td>0.479870</td>\n",
       "    </tr>\n",
       "  </tbody>\n",
       "</table>\n",
       "</div>"
      ],
      "text/plain": [
       "              Year      Wealth\n",
       "count   102.000000  102.000000\n",
       "mean   1963.500000    0.326238\n",
       "std      29.588849    0.066723\n",
       "min    1913.000000    0.219570\n",
       "25%    1938.250000    0.275326\n",
       "50%    1963.500000    0.307345\n",
       "75%    1988.750000    0.382319\n",
       "max    2014.000000    0.479870"
      ]
     },
     "execution_count": 199,
     "metadata": {},
     "output_type": "execute_result"
    }
   ],
   "source": [
    "wealth_99_100.describe()"
   ]
  },
  {
   "cell_type": "code",
   "execution_count": 200,
   "metadata": {},
   "outputs": [
    {
     "data": {
      "text/html": [
       "<div>\n",
       "<style>\n",
       "    .dataframe thead tr:only-child th {\n",
       "        text-align: right;\n",
       "    }\n",
       "\n",
       "    .dataframe thead th {\n",
       "        text-align: left;\n",
       "    }\n",
       "\n",
       "    .dataframe tbody tr th {\n",
       "        vertical-align: top;\n",
       "    }\n",
       "</style>\n",
       "<table border=\"1\" class=\"dataframe\">\n",
       "  <thead>\n",
       "    <tr style=\"text-align: right;\">\n",
       "      <th></th>\n",
       "      <th>Year</th>\n",
       "      <th>Income</th>\n",
       "    </tr>\n",
       "  </thead>\n",
       "  <tbody>\n",
       "    <tr>\n",
       "      <th>count</th>\n",
       "      <td>102.000000</td>\n",
       "      <td>53.000000</td>\n",
       "    </tr>\n",
       "    <tr>\n",
       "      <th>mean</th>\n",
       "      <td>1963.500000</td>\n",
       "      <td>0.170489</td>\n",
       "    </tr>\n",
       "    <tr>\n",
       "      <th>std</th>\n",
       "      <td>29.588849</td>\n",
       "      <td>0.027815</td>\n",
       "    </tr>\n",
       "    <tr>\n",
       "      <th>min</th>\n",
       "      <td>1913.000000</td>\n",
       "      <td>0.123810</td>\n",
       "    </tr>\n",
       "    <tr>\n",
       "      <th>25%</th>\n",
       "      <td>1938.250000</td>\n",
       "      <td>0.147700</td>\n",
       "    </tr>\n",
       "    <tr>\n",
       "      <th>50%</th>\n",
       "      <td>1963.500000</td>\n",
       "      <td>0.169450</td>\n",
       "    </tr>\n",
       "    <tr>\n",
       "      <th>75%</th>\n",
       "      <td>1988.750000</td>\n",
       "      <td>0.198940</td>\n",
       "    </tr>\n",
       "    <tr>\n",
       "      <th>max</th>\n",
       "      <td>2014.000000</td>\n",
       "      <td>0.211970</td>\n",
       "    </tr>\n",
       "  </tbody>\n",
       "</table>\n",
       "</div>"
      ],
      "text/plain": [
       "              Year     Income\n",
       "count   102.000000  53.000000\n",
       "mean   1963.500000   0.170489\n",
       "std      29.588849   0.027815\n",
       "min    1913.000000   0.123810\n",
       "25%    1938.250000   0.147700\n",
       "50%    1963.500000   0.169450\n",
       "75%    1988.750000   0.198940\n",
       "max    2014.000000   0.211970"
      ]
     },
     "execution_count": 200,
     "metadata": {},
     "output_type": "execute_result"
    }
   ],
   "source": [
    "income_0_50.describe()"
   ]
  },
  {
   "cell_type": "code",
   "execution_count": 201,
   "metadata": {},
   "outputs": [
    {
     "data": {
      "text/html": [
       "<div>\n",
       "<style>\n",
       "    .dataframe thead tr:only-child th {\n",
       "        text-align: right;\n",
       "    }\n",
       "\n",
       "    .dataframe thead th {\n",
       "        text-align: left;\n",
       "    }\n",
       "\n",
       "    .dataframe tbody tr th {\n",
       "        vertical-align: top;\n",
       "    }\n",
       "</style>\n",
       "<table border=\"1\" class=\"dataframe\">\n",
       "  <thead>\n",
       "    <tr style=\"text-align: right;\">\n",
       "      <th></th>\n",
       "      <th>Year</th>\n",
       "      <th>Income</th>\n",
       "    </tr>\n",
       "  </thead>\n",
       "  <tbody>\n",
       "    <tr>\n",
       "      <th>count</th>\n",
       "      <td>102.000000</td>\n",
       "      <td>53.000000</td>\n",
       "    </tr>\n",
       "    <tr>\n",
       "      <th>mean</th>\n",
       "      <td>1963.500000</td>\n",
       "      <td>0.437362</td>\n",
       "    </tr>\n",
       "    <tr>\n",
       "      <th>std</th>\n",
       "      <td>29.588849</td>\n",
       "      <td>0.017650</td>\n",
       "    </tr>\n",
       "    <tr>\n",
       "      <th>min</th>\n",
       "      <td>1913.000000</td>\n",
       "      <td>0.404350</td>\n",
       "    </tr>\n",
       "    <tr>\n",
       "      <th>25%</th>\n",
       "      <td>1938.250000</td>\n",
       "      <td>0.422520</td>\n",
       "    </tr>\n",
       "    <tr>\n",
       "      <th>50%</th>\n",
       "      <td>1963.500000</td>\n",
       "      <td>0.443609</td>\n",
       "    </tr>\n",
       "    <tr>\n",
       "      <th>75%</th>\n",
       "      <td>1988.750000</td>\n",
       "      <td>0.452100</td>\n",
       "    </tr>\n",
       "    <tr>\n",
       "      <th>max</th>\n",
       "      <td>2014.000000</td>\n",
       "      <td>0.462730</td>\n",
       "    </tr>\n",
       "  </tbody>\n",
       "</table>\n",
       "</div>"
      ],
      "text/plain": [
       "              Year     Income\n",
       "count   102.000000  53.000000\n",
       "mean   1963.500000   0.437362\n",
       "std      29.588849   0.017650\n",
       "min    1913.000000   0.404350\n",
       "25%    1938.250000   0.422520\n",
       "50%    1963.500000   0.443609\n",
       "75%    1988.750000   0.452100\n",
       "max    2014.000000   0.462730"
      ]
     },
     "execution_count": 201,
     "metadata": {},
     "output_type": "execute_result"
    }
   ],
   "source": [
    "income_50_90.describe()"
   ]
  },
  {
   "cell_type": "code",
   "execution_count": 202,
   "metadata": {},
   "outputs": [
    {
     "data": {
      "text/html": [
       "<div>\n",
       "<style>\n",
       "    .dataframe thead tr:only-child th {\n",
       "        text-align: right;\n",
       "    }\n",
       "\n",
       "    .dataframe thead th {\n",
       "        text-align: left;\n",
       "    }\n",
       "\n",
       "    .dataframe tbody tr th {\n",
       "        vertical-align: top;\n",
       "    }\n",
       "</style>\n",
       "<table border=\"1\" class=\"dataframe\">\n",
       "  <thead>\n",
       "    <tr style=\"text-align: right;\">\n",
       "      <th></th>\n",
       "      <th>Year</th>\n",
       "      <th>Income</th>\n",
       "    </tr>\n",
       "  </thead>\n",
       "  <tbody>\n",
       "    <tr>\n",
       "      <th>count</th>\n",
       "      <td>102.000000</td>\n",
       "      <td>102.000000</td>\n",
       "    </tr>\n",
       "    <tr>\n",
       "      <th>mean</th>\n",
       "      <td>1963.500000</td>\n",
       "      <td>0.406250</td>\n",
       "    </tr>\n",
       "    <tr>\n",
       "      <th>std</th>\n",
       "      <td>29.588849</td>\n",
       "      <td>0.047359</td>\n",
       "    </tr>\n",
       "    <tr>\n",
       "      <th>min</th>\n",
       "      <td>1913.000000</td>\n",
       "      <td>0.338360</td>\n",
       "    </tr>\n",
       "    <tr>\n",
       "      <th>25%</th>\n",
       "      <td>1938.250000</td>\n",
       "      <td>0.361084</td>\n",
       "    </tr>\n",
       "    <tr>\n",
       "      <th>50%</th>\n",
       "      <td>1963.500000</td>\n",
       "      <td>0.398170</td>\n",
       "    </tr>\n",
       "    <tr>\n",
       "      <th>75%</th>\n",
       "      <td>1988.750000</td>\n",
       "      <td>0.453334</td>\n",
       "    </tr>\n",
       "    <tr>\n",
       "      <th>max</th>\n",
       "      <td>2014.000000</td>\n",
       "      <td>0.480265</td>\n",
       "    </tr>\n",
       "  </tbody>\n",
       "</table>\n",
       "</div>"
      ],
      "text/plain": [
       "              Year      Income\n",
       "count   102.000000  102.000000\n",
       "mean   1963.500000    0.406250\n",
       "std      29.588849    0.047359\n",
       "min    1913.000000    0.338360\n",
       "25%    1938.250000    0.361084\n",
       "50%    1963.500000    0.398170\n",
       "75%    1988.750000    0.453334\n",
       "max    2014.000000    0.480265"
      ]
     },
     "execution_count": 202,
     "metadata": {},
     "output_type": "execute_result"
    }
   ],
   "source": [
    "income_90_100.describe()"
   ]
  },
  {
   "cell_type": "code",
   "execution_count": 203,
   "metadata": {},
   "outputs": [
    {
     "data": {
      "text/html": [
       "<div>\n",
       "<style>\n",
       "    .dataframe thead tr:only-child th {\n",
       "        text-align: right;\n",
       "    }\n",
       "\n",
       "    .dataframe thead th {\n",
       "        text-align: left;\n",
       "    }\n",
       "\n",
       "    .dataframe tbody tr th {\n",
       "        vertical-align: top;\n",
       "    }\n",
       "</style>\n",
       "<table border=\"1\" class=\"dataframe\">\n",
       "  <thead>\n",
       "    <tr style=\"text-align: right;\">\n",
       "      <th></th>\n",
       "      <th>Year</th>\n",
       "      <th>Income</th>\n",
       "    </tr>\n",
       "  </thead>\n",
       "  <tbody>\n",
       "    <tr>\n",
       "      <th>count</th>\n",
       "      <td>102.000000</td>\n",
       "      <td>102.000000</td>\n",
       "    </tr>\n",
       "    <tr>\n",
       "      <th>mean</th>\n",
       "      <td>1963.500000</td>\n",
       "      <td>0.156880</td>\n",
       "    </tr>\n",
       "    <tr>\n",
       "      <th>std</th>\n",
       "      <td>29.588849</td>\n",
       "      <td>0.032636</td>\n",
       "    </tr>\n",
       "    <tr>\n",
       "      <th>min</th>\n",
       "      <td>1913.000000</td>\n",
       "      <td>0.104060</td>\n",
       "    </tr>\n",
       "    <tr>\n",
       "      <th>25%</th>\n",
       "      <td>1938.250000</td>\n",
       "      <td>0.127543</td>\n",
       "    </tr>\n",
       "    <tr>\n",
       "      <th>50%</th>\n",
       "      <td>1963.500000</td>\n",
       "      <td>0.151650</td>\n",
       "    </tr>\n",
       "    <tr>\n",
       "      <th>75%</th>\n",
       "      <td>1988.750000</td>\n",
       "      <td>0.185292</td>\n",
       "    </tr>\n",
       "    <tr>\n",
       "      <th>max</th>\n",
       "      <td>2014.000000</td>\n",
       "      <td>0.213892</td>\n",
       "    </tr>\n",
       "  </tbody>\n",
       "</table>\n",
       "</div>"
      ],
      "text/plain": [
       "              Year      Income\n",
       "count   102.000000  102.000000\n",
       "mean   1963.500000    0.156880\n",
       "std      29.588849    0.032636\n",
       "min    1913.000000    0.104060\n",
       "25%    1938.250000    0.127543\n",
       "50%    1963.500000    0.151650\n",
       "75%    1988.750000    0.185292\n",
       "max    2014.000000    0.213892"
      ]
     },
     "execution_count": 203,
     "metadata": {},
     "output_type": "execute_result"
    }
   ],
   "source": [
    "income_99_100.describe()"
   ]
  },
  {
   "cell_type": "code",
   "execution_count": 204,
   "metadata": {},
   "outputs": [
    {
     "data": {
      "text/html": [
       "<div>\n",
       "<style>\n",
       "    .dataframe thead tr:only-child th {\n",
       "        text-align: right;\n",
       "    }\n",
       "\n",
       "    .dataframe thead th {\n",
       "        text-align: left;\n",
       "    }\n",
       "\n",
       "    .dataframe tbody tr th {\n",
       "        vertical-align: top;\n",
       "    }\n",
       "</style>\n",
       "<table border=\"1\" class=\"dataframe\">\n",
       "  <thead>\n",
       "    <tr style=\"text-align: right;\">\n",
       "      <th></th>\n",
       "      <th>Percentile</th>\n",
       "      <th>Year</th>\n",
       "      <th>Wealth</th>\n",
       "    </tr>\n",
       "  </thead>\n",
       "  <tbody>\n",
       "    <tr>\n",
       "      <th>204</th>\n",
       "      <td>p0p50</td>\n",
       "      <td>1913</td>\n",
       "      <td>NaN</td>\n",
       "    </tr>\n",
       "    <tr>\n",
       "      <th>205</th>\n",
       "      <td>p0p50</td>\n",
       "      <td>1914</td>\n",
       "      <td>NaN</td>\n",
       "    </tr>\n",
       "    <tr>\n",
       "      <th>206</th>\n",
       "      <td>p0p50</td>\n",
       "      <td>1915</td>\n",
       "      <td>NaN</td>\n",
       "    </tr>\n",
       "    <tr>\n",
       "      <th>207</th>\n",
       "      <td>p0p50</td>\n",
       "      <td>1916</td>\n",
       "      <td>NaN</td>\n",
       "    </tr>\n",
       "    <tr>\n",
       "      <th>208</th>\n",
       "      <td>p0p50</td>\n",
       "      <td>1917</td>\n",
       "      <td>NaN</td>\n",
       "    </tr>\n",
       "    <tr>\n",
       "      <th>209</th>\n",
       "      <td>p0p50</td>\n",
       "      <td>1918</td>\n",
       "      <td>NaN</td>\n",
       "    </tr>\n",
       "    <tr>\n",
       "      <th>210</th>\n",
       "      <td>p0p50</td>\n",
       "      <td>1919</td>\n",
       "      <td>NaN</td>\n",
       "    </tr>\n",
       "    <tr>\n",
       "      <th>211</th>\n",
       "      <td>p0p50</td>\n",
       "      <td>1920</td>\n",
       "      <td>NaN</td>\n",
       "    </tr>\n",
       "    <tr>\n",
       "      <th>212</th>\n",
       "      <td>p0p50</td>\n",
       "      <td>1921</td>\n",
       "      <td>NaN</td>\n",
       "    </tr>\n",
       "    <tr>\n",
       "      <th>213</th>\n",
       "      <td>p0p50</td>\n",
       "      <td>1922</td>\n",
       "      <td>NaN</td>\n",
       "    </tr>\n",
       "    <tr>\n",
       "      <th>214</th>\n",
       "      <td>p0p50</td>\n",
       "      <td>1923</td>\n",
       "      <td>NaN</td>\n",
       "    </tr>\n",
       "    <tr>\n",
       "      <th>215</th>\n",
       "      <td>p0p50</td>\n",
       "      <td>1924</td>\n",
       "      <td>NaN</td>\n",
       "    </tr>\n",
       "    <tr>\n",
       "      <th>216</th>\n",
       "      <td>p0p50</td>\n",
       "      <td>1925</td>\n",
       "      <td>NaN</td>\n",
       "    </tr>\n",
       "    <tr>\n",
       "      <th>217</th>\n",
       "      <td>p0p50</td>\n",
       "      <td>1926</td>\n",
       "      <td>NaN</td>\n",
       "    </tr>\n",
       "    <tr>\n",
       "      <th>218</th>\n",
       "      <td>p0p50</td>\n",
       "      <td>1927</td>\n",
       "      <td>NaN</td>\n",
       "    </tr>\n",
       "    <tr>\n",
       "      <th>219</th>\n",
       "      <td>p0p50</td>\n",
       "      <td>1928</td>\n",
       "      <td>NaN</td>\n",
       "    </tr>\n",
       "    <tr>\n",
       "      <th>220</th>\n",
       "      <td>p0p50</td>\n",
       "      <td>1929</td>\n",
       "      <td>NaN</td>\n",
       "    </tr>\n",
       "    <tr>\n",
       "      <th>221</th>\n",
       "      <td>p0p50</td>\n",
       "      <td>1930</td>\n",
       "      <td>NaN</td>\n",
       "    </tr>\n",
       "    <tr>\n",
       "      <th>222</th>\n",
       "      <td>p0p50</td>\n",
       "      <td>1931</td>\n",
       "      <td>NaN</td>\n",
       "    </tr>\n",
       "    <tr>\n",
       "      <th>223</th>\n",
       "      <td>p0p50</td>\n",
       "      <td>1932</td>\n",
       "      <td>NaN</td>\n",
       "    </tr>\n",
       "    <tr>\n",
       "      <th>224</th>\n",
       "      <td>p0p50</td>\n",
       "      <td>1933</td>\n",
       "      <td>NaN</td>\n",
       "    </tr>\n",
       "    <tr>\n",
       "      <th>225</th>\n",
       "      <td>p0p50</td>\n",
       "      <td>1934</td>\n",
       "      <td>NaN</td>\n",
       "    </tr>\n",
       "    <tr>\n",
       "      <th>226</th>\n",
       "      <td>p0p50</td>\n",
       "      <td>1935</td>\n",
       "      <td>NaN</td>\n",
       "    </tr>\n",
       "    <tr>\n",
       "      <th>227</th>\n",
       "      <td>p0p50</td>\n",
       "      <td>1936</td>\n",
       "      <td>NaN</td>\n",
       "    </tr>\n",
       "    <tr>\n",
       "      <th>228</th>\n",
       "      <td>p0p50</td>\n",
       "      <td>1937</td>\n",
       "      <td>NaN</td>\n",
       "    </tr>\n",
       "    <tr>\n",
       "      <th>229</th>\n",
       "      <td>p0p50</td>\n",
       "      <td>1938</td>\n",
       "      <td>NaN</td>\n",
       "    </tr>\n",
       "    <tr>\n",
       "      <th>230</th>\n",
       "      <td>p0p50</td>\n",
       "      <td>1939</td>\n",
       "      <td>NaN</td>\n",
       "    </tr>\n",
       "    <tr>\n",
       "      <th>231</th>\n",
       "      <td>p0p50</td>\n",
       "      <td>1940</td>\n",
       "      <td>NaN</td>\n",
       "    </tr>\n",
       "    <tr>\n",
       "      <th>232</th>\n",
       "      <td>p0p50</td>\n",
       "      <td>1941</td>\n",
       "      <td>NaN</td>\n",
       "    </tr>\n",
       "    <tr>\n",
       "      <th>233</th>\n",
       "      <td>p0p50</td>\n",
       "      <td>1942</td>\n",
       "      <td>NaN</td>\n",
       "    </tr>\n",
       "    <tr>\n",
       "      <th>...</th>\n",
       "      <td>...</td>\n",
       "      <td>...</td>\n",
       "      <td>...</td>\n",
       "    </tr>\n",
       "    <tr>\n",
       "      <th>276</th>\n",
       "      <td>p0p50</td>\n",
       "      <td>1985</td>\n",
       "      <td>0.02218</td>\n",
       "    </tr>\n",
       "    <tr>\n",
       "      <th>277</th>\n",
       "      <td>p0p50</td>\n",
       "      <td>1986</td>\n",
       "      <td>0.02182</td>\n",
       "    </tr>\n",
       "    <tr>\n",
       "      <th>278</th>\n",
       "      <td>p0p50</td>\n",
       "      <td>1987</td>\n",
       "      <td>0.02409</td>\n",
       "    </tr>\n",
       "    <tr>\n",
       "      <th>279</th>\n",
       "      <td>p0p50</td>\n",
       "      <td>1988</td>\n",
       "      <td>0.02296</td>\n",
       "    </tr>\n",
       "    <tr>\n",
       "      <th>280</th>\n",
       "      <td>p0p50</td>\n",
       "      <td>1989</td>\n",
       "      <td>0.02377</td>\n",
       "    </tr>\n",
       "    <tr>\n",
       "      <th>281</th>\n",
       "      <td>p0p50</td>\n",
       "      <td>1990</td>\n",
       "      <td>0.02192</td>\n",
       "    </tr>\n",
       "    <tr>\n",
       "      <th>282</th>\n",
       "      <td>p0p50</td>\n",
       "      <td>1991</td>\n",
       "      <td>0.02150</td>\n",
       "    </tr>\n",
       "    <tr>\n",
       "      <th>283</th>\n",
       "      <td>p0p50</td>\n",
       "      <td>1992</td>\n",
       "      <td>0.01900</td>\n",
       "    </tr>\n",
       "    <tr>\n",
       "      <th>284</th>\n",
       "      <td>p0p50</td>\n",
       "      <td>1993</td>\n",
       "      <td>0.01764</td>\n",
       "    </tr>\n",
       "    <tr>\n",
       "      <th>285</th>\n",
       "      <td>p0p50</td>\n",
       "      <td>1994</td>\n",
       "      <td>0.01575</td>\n",
       "    </tr>\n",
       "    <tr>\n",
       "      <th>286</th>\n",
       "      <td>p0p50</td>\n",
       "      <td>1995</td>\n",
       "      <td>0.01367</td>\n",
       "    </tr>\n",
       "    <tr>\n",
       "      <th>287</th>\n",
       "      <td>p0p50</td>\n",
       "      <td>1996</td>\n",
       "      <td>0.01241</td>\n",
       "    </tr>\n",
       "    <tr>\n",
       "      <th>288</th>\n",
       "      <td>p0p50</td>\n",
       "      <td>1997</td>\n",
       "      <td>0.00997</td>\n",
       "    </tr>\n",
       "    <tr>\n",
       "      <th>289</th>\n",
       "      <td>p0p50</td>\n",
       "      <td>1998</td>\n",
       "      <td>0.00959</td>\n",
       "    </tr>\n",
       "    <tr>\n",
       "      <th>290</th>\n",
       "      <td>p0p50</td>\n",
       "      <td>1999</td>\n",
       "      <td>0.01052</td>\n",
       "    </tr>\n",
       "    <tr>\n",
       "      <th>291</th>\n",
       "      <td>p0p50</td>\n",
       "      <td>2000</td>\n",
       "      <td>0.01039</td>\n",
       "    </tr>\n",
       "    <tr>\n",
       "      <th>292</th>\n",
       "      <td>p0p50</td>\n",
       "      <td>2001</td>\n",
       "      <td>0.00974</td>\n",
       "    </tr>\n",
       "    <tr>\n",
       "      <th>293</th>\n",
       "      <td>p0p50</td>\n",
       "      <td>2002</td>\n",
       "      <td>0.00852</td>\n",
       "    </tr>\n",
       "    <tr>\n",
       "      <th>294</th>\n",
       "      <td>p0p50</td>\n",
       "      <td>2003</td>\n",
       "      <td>0.00726</td>\n",
       "    </tr>\n",
       "    <tr>\n",
       "      <th>295</th>\n",
       "      <td>p0p50</td>\n",
       "      <td>2004</td>\n",
       "      <td>0.00791</td>\n",
       "    </tr>\n",
       "    <tr>\n",
       "      <th>296</th>\n",
       "      <td>p0p50</td>\n",
       "      <td>2005</td>\n",
       "      <td>0.00846</td>\n",
       "    </tr>\n",
       "    <tr>\n",
       "      <th>297</th>\n",
       "      <td>p0p50</td>\n",
       "      <td>2006</td>\n",
       "      <td>0.00642</td>\n",
       "    </tr>\n",
       "    <tr>\n",
       "      <th>298</th>\n",
       "      <td>p0p50</td>\n",
       "      <td>2007</td>\n",
       "      <td>0.00123</td>\n",
       "    </tr>\n",
       "    <tr>\n",
       "      <th>299</th>\n",
       "      <td>p0p50</td>\n",
       "      <td>2008</td>\n",
       "      <td>-0.01236</td>\n",
       "    </tr>\n",
       "    <tr>\n",
       "      <th>300</th>\n",
       "      <td>p0p50</td>\n",
       "      <td>2009</td>\n",
       "      <td>-0.01972</td>\n",
       "    </tr>\n",
       "    <tr>\n",
       "      <th>301</th>\n",
       "      <td>p0p50</td>\n",
       "      <td>2010</td>\n",
       "      <td>-0.01627</td>\n",
       "    </tr>\n",
       "    <tr>\n",
       "      <th>302</th>\n",
       "      <td>p0p50</td>\n",
       "      <td>2011</td>\n",
       "      <td>-0.01444</td>\n",
       "    </tr>\n",
       "    <tr>\n",
       "      <th>303</th>\n",
       "      <td>p0p50</td>\n",
       "      <td>2012</td>\n",
       "      <td>-0.01040</td>\n",
       "    </tr>\n",
       "    <tr>\n",
       "      <th>304</th>\n",
       "      <td>p0p50</td>\n",
       "      <td>2013</td>\n",
       "      <td>-0.00483</td>\n",
       "    </tr>\n",
       "    <tr>\n",
       "      <th>305</th>\n",
       "      <td>p0p50</td>\n",
       "      <td>2014</td>\n",
       "      <td>-0.00131</td>\n",
       "    </tr>\n",
       "  </tbody>\n",
       "</table>\n",
       "<p>102 rows × 3 columns</p>\n",
       "</div>"
      ],
      "text/plain": [
       "    Percentile  Year   Wealth\n",
       "204      p0p50  1913      NaN\n",
       "205      p0p50  1914      NaN\n",
       "206      p0p50  1915      NaN\n",
       "207      p0p50  1916      NaN\n",
       "208      p0p50  1917      NaN\n",
       "209      p0p50  1918      NaN\n",
       "210      p0p50  1919      NaN\n",
       "211      p0p50  1920      NaN\n",
       "212      p0p50  1921      NaN\n",
       "213      p0p50  1922      NaN\n",
       "214      p0p50  1923      NaN\n",
       "215      p0p50  1924      NaN\n",
       "216      p0p50  1925      NaN\n",
       "217      p0p50  1926      NaN\n",
       "218      p0p50  1927      NaN\n",
       "219      p0p50  1928      NaN\n",
       "220      p0p50  1929      NaN\n",
       "221      p0p50  1930      NaN\n",
       "222      p0p50  1931      NaN\n",
       "223      p0p50  1932      NaN\n",
       "224      p0p50  1933      NaN\n",
       "225      p0p50  1934      NaN\n",
       "226      p0p50  1935      NaN\n",
       "227      p0p50  1936      NaN\n",
       "228      p0p50  1937      NaN\n",
       "229      p0p50  1938      NaN\n",
       "230      p0p50  1939      NaN\n",
       "231      p0p50  1940      NaN\n",
       "232      p0p50  1941      NaN\n",
       "233      p0p50  1942      NaN\n",
       "..         ...   ...      ...\n",
       "276      p0p50  1985  0.02218\n",
       "277      p0p50  1986  0.02182\n",
       "278      p0p50  1987  0.02409\n",
       "279      p0p50  1988  0.02296\n",
       "280      p0p50  1989  0.02377\n",
       "281      p0p50  1990  0.02192\n",
       "282      p0p50  1991  0.02150\n",
       "283      p0p50  1992  0.01900\n",
       "284      p0p50  1993  0.01764\n",
       "285      p0p50  1994  0.01575\n",
       "286      p0p50  1995  0.01367\n",
       "287      p0p50  1996  0.01241\n",
       "288      p0p50  1997  0.00997\n",
       "289      p0p50  1998  0.00959\n",
       "290      p0p50  1999  0.01052\n",
       "291      p0p50  2000  0.01039\n",
       "292      p0p50  2001  0.00974\n",
       "293      p0p50  2002  0.00852\n",
       "294      p0p50  2003  0.00726\n",
       "295      p0p50  2004  0.00791\n",
       "296      p0p50  2005  0.00846\n",
       "297      p0p50  2006  0.00642\n",
       "298      p0p50  2007  0.00123\n",
       "299      p0p50  2008 -0.01236\n",
       "300      p0p50  2009 -0.01972\n",
       "301      p0p50  2010 -0.01627\n",
       "302      p0p50  2011 -0.01444\n",
       "303      p0p50  2012 -0.01040\n",
       "304      p0p50  2013 -0.00483\n",
       "305      p0p50  2014 -0.00131\n",
       "\n",
       "[102 rows x 3 columns]"
      ]
     },
     "execution_count": 204,
     "metadata": {},
     "output_type": "execute_result"
    }
   ],
   "source": [
    "wealth_0_50"
   ]
  },
  {
   "cell_type": "markdown",
   "metadata": {},
   "source": [
    "It looks like the data only goes all the way back to 1913 for the top decile of data, so I'll only be able to create full comparisons from 1962-2014, and from 1913-1962 I'll only be able to compare the changes in the share of national income/wealth controlled by the top decile and centile."
   ]
  },
  {
   "cell_type": "code",
   "execution_count": 213,
   "metadata": {},
   "outputs": [
    {
     "data": {
      "text/plain": [
       "Text(0.5,0,'Year')"
      ]
     },
     "execution_count": 213,
     "metadata": {},
     "output_type": "execute_result"
    },
    {
     "data": {
      "image/png": "[encoded data removed]",
      "text/plain": [
       "<matplotlib.figure.Figure at 0x1a238c79e8>"
      ]
     },
     "metadata": {},
     "output_type": "display_data"
    }
   ],
   "source": [
    "plt.subplots(figsize=(12,8))\n",
    "\n",
    "plt.plot(income_0_50.Year, income_0_50[\"Income\"],'y', label='0-50%')\n",
    "plt.plot(income_50_90.Year, income_50_90[\"Income\"],'r', label='50-90%')\n",
    "plt.plot(income_90_100.Year, income_90_100[\"Income\"],'b', label='90-100%')\n",
    "plt.plot(income_99_100.Year, income_99_100[\"Income\"],'g', label='99-100%')\n",
    "\n",
    "plt.gca().set_xlim([1962,2014])\n",
    "plt.gca().set_ylim([0,0.50])\n",
    "plt.legend(loc='best')\n",
    "plt.title('US Income Distribution, 1962-2014', size=14, fontweight='bold')\n",
    "plt.ylabel('Proportion of National Income', size=12)\n",
    "plt.xlabel('Year', size=12)"
   ]
  },
  {
   "cell_type": "markdown",
   "metadata": {},
   "source": [
    "Over the last 50 years, the percentage of income earned by the top decile and centile have increased rather substantially, while the income earned by the bottom 90% of US earners dropped. This has enormous implications for the United States; research indicates that widening inequality often leads to political and social instability and greater socioeconomic stratification."
   ]
  },
  {
   "cell_type": "code",
   "execution_count": 224,
   "metadata": {},
   "outputs": [
    {
     "data": {
      "text/plain": [
       "Text(0.5,0,'Year')"
      ]
     },
     "execution_count": 224,
     "metadata": {},
     "output_type": "execute_result"
    },
    {
     "data": {
      "image/png": "[encoded data removed]",
      "text/plain": [
       "<matplotlib.figure.Figure at 0x1a15d04748>"
      ]
     },
     "metadata": {},
     "output_type": "display_data"
    }
   ],
   "source": [
    "plt.subplots(figsize=(12,8))\n",
    "\n",
    "plt.plot(wealth_0_50.Year, wealth_0_50[\"Wealth\"],'y', label='0-50%')\n",
    "plt.plot(wealth_50_90.Year, wealth_50_90[\"Wealth\"],'r', label='50-90%')\n",
    "plt.plot(wealth_90_100.Year, wealth_90_100[\"Wealth\"],'b', label='90-100%')\n",
    "plt.plot(wealth_99_100.Year, wealth_99_100[\"Wealth\"],'g', label='99-100%')\n",
    "\n",
    "plt.gca().set_xlim([1962,2014])\n",
    "plt.legend(loc='lower left')\n",
    "plt.title('US Wealth Distribution, 1962-2014', size=14, fontweight='bold')\n",
    "plt.ylabel('Proportion of Total Wealth', size=12)\n",
    "plt.xlabel('Year', size=12)"
   ]
  },
  {
   "cell_type": "markdown",
   "metadata": {},
   "source": [
    "While the increase in inequality has been less pronounced in wealth inequality than income inequality, that fact is offset by the enormous disparities that were initially present: over 70% of wealth is owned by the top 10% of wealth owners, while the bottom 50% owns only a couple  percent of total wealth. This is largely due to the fact that the least wealthy individuals in the United States have negative net worths: they have more debts than they do assets."
   ]
  },
  {
   "cell_type": "code",
   "execution_count": 227,
   "metadata": {},
   "outputs": [
    {
     "data": {
      "text/plain": [
       "Text(0.5,0,'Year')"
      ]
     },
     "execution_count": 227,
     "metadata": {},
     "output_type": "execute_result"
    },
    {
     "data": {
      "image/png": "[encoded data removed]",
      "text/plain": [
       "<matplotlib.figure.Figure at 0x1a28bf0438>"
      ]
     },
     "metadata": {},
     "output_type": "display_data"
    }
   ],
   "source": [
    "plt.subplots(figsize=(12,8))\n",
    "\n",
    "plt.plot(income_90_100.Year, income_90_100[\"Income\"],'b', label='90-100%')\n",
    "plt.plot(income_99_100.Year, income_99_100[\"Income\"],'g', label='99-100%')\n",
    "\n",
    "plt.gca().set_xlim([1913,2014])\n",
    "plt.gca().set_ylim([0,0.50])\n",
    "plt.legend(loc='best')\n",
    "plt.title('US Income Distribution, 1913-2014 (Top Decile)', size=14, fontweight='bold')\n",
    "plt.ylabel('Proportion of National Income', size=12)\n",
    "plt.xlabel('Year', size=12)"
   ]
  },
  {
   "cell_type": "markdown",
   "metadata": {},
   "source": [
    "Interestingly, the share of income claimed by the top decile fell precipitously following World War 2, and didn't begin to climb for 4 decades afterward, which could potentially point to the levelling properties of war and the impact of high tax levels following the war. More data would be needed to corroborate those hypotheses, and to compare similar circumstances across different countries."
   ]
  },
  {
   "cell_type": "code",
   "execution_count": 228,
   "metadata": {},
   "outputs": [
    {
     "data": {
      "text/plain": [
       "Text(0.5,0,'Year')"
      ]
     },
     "execution_count": 228,
     "metadata": {},
     "output_type": "execute_result"
    },
    {
     "data": {
      "image/png": "[encoded data removed]",
      "text/plain": [
       "<matplotlib.figure.Figure at 0x1a28c3e908>"
      ]
     },
     "metadata": {},
     "output_type": "display_data"
    }
   ],
   "source": [
    "plt.subplots(figsize=(12,8))\n",
    "\n",
    "plt.plot(wealth_90_100.Year, wealth_90_100[\"Wealth\"],'b', label='90-100%')\n",
    "plt.plot(wealth_99_100.Year, wealth_99_100[\"Wealth\"],'g', label='99-100%')\n",
    "\n",
    "plt.gca().set_xlim([1913,2014])\n",
    "plt.legend(loc='lower left')\n",
    "plt.title('US Wealth Distribution, 1913-2014 (Top Decile)', size=14, fontweight='bold')\n",
    "plt.ylabel('Proportion of Total Wealth', size=12)\n",
    "plt.xlabel('Year', size=12)"
   ]
  },
  {
   "cell_type": "markdown",
   "metadata": {},
   "source": [
    "Similarly, the top decile's wealth fell following World War 2. Again, high tax rates on returns to wealth probably limited the accumulation of wealth, but that's beyond the scope of the data I collected.\n",
    "\n",
    "All told, the share of wealth and income claimed by the top decile and percentile have been increasing significantly in recent decades, while the bottom 90% of earners have seen their respective shares fall, indicating and contributing to widening inequality, a declining middle class, and increasing social stratification."
   ]
  },
  {
   "cell_type": "markdown",
   "metadata": {},
   "source": [
    "### FRED Economic Data (API, JSON)"
   ]
  },
  {
   "cell_type": "markdown",
   "metadata": {},
   "source": [
    "My parents recently accepted a job offer in the United Kingdom, and will be moving over there in the next couple of months. One issue is their savings: when will it be best to transfer money from USD and GBP? Similarly, proximity to Europe makes the conversion to Euro from dollars also important. I pulled data using the FRED's API on average monthly exchange rates for the GBP and EUR to try to get a feel for the fluctuations in these currencies relative to the dollar.\n",
    "\n",
    "Setting up the API and requesting data:"
   ]
  },
  {
   "cell_type": "code",
   "execution_count": 230,
   "metadata": {
    "collapsed": true
   },
   "outputs": [],
   "source": [
    "fred_api_url = \"https://api.stlouisfed.org/fred/series/observations\"\n",
    "api_key = \"5531fb22b2dd9e808231fa88da0c114d\"\n",
    "euro_id = \"EXUSEU\"\n",
    "pound_id = \"EXUSUK\"\n",
    "file_type = \"json\"\n",
    "euro_params = {\"series_id\" : euro_id, \"api_key\" : api_key, \"file_type\" : file_type}\n",
    "pound_params = {\"series_id\" : pound_id, \"api_key\" : api_key, \"file_type\" : file_type}"
   ]
  },
  {
   "cell_type": "code",
   "execution_count": 231,
   "metadata": {
    "collapsed": true
   },
   "outputs": [],
   "source": [
    "euro_request = requests.get(fred_api_url, params = euro_params)\n",
    "pound_request = requests.get(fred_api_url, params = pound_params)\n",
    "euro = euro_request.json()\n",
    "pound = pound_request.json()"
   ]
  },
  {
   "cell_type": "markdown",
   "metadata": {},
   "source": [
    "The API returned the data in a JSON:"
   ]
  },
  {
   "cell_type": "code",
   "execution_count": 234,
   "metadata": {},
   "outputs": [
    {
     "data": {
      "text/plain": [
       "{'date': '1999-01-01',\n",
       " 'realtime_end': '2018-01-30',\n",
       " 'realtime_start': '2018-01-30',\n",
       " 'value': '1.1591'}"
      ]
     },
     "execution_count": 234,
     "metadata": {},
     "output_type": "execute_result"
    }
   ],
   "source": [
    "euro['observations'][0]"
   ]
  },
  {
   "cell_type": "code",
   "execution_count": 237,
   "metadata": {},
   "outputs": [
    {
     "data": {
      "text/plain": [
       "{'date': '1971-01-01',\n",
       " 'realtime_end': '2018-01-30',\n",
       " 'realtime_start': '2018-01-30',\n",
       " 'value': '2.4058'}"
      ]
     },
     "execution_count": 237,
     "metadata": {},
     "output_type": "execute_result"
    }
   ],
   "source": [
    "pound['observations'][0]"
   ]
  },
  {
   "cell_type": "code",
   "execution_count": 235,
   "metadata": {},
   "outputs": [
    {
     "data": {
      "text/plain": [
       "(229, 565)"
      ]
     },
     "execution_count": 235,
     "metadata": {},
     "output_type": "execute_result"
    }
   ],
   "source": [
    "len(euro['observations']), len(pound['observations'])"
   ]
  },
  {
   "cell_type": "markdown",
   "metadata": {},
   "source": [
    "The Euro was implemented in 1999 and the data for the Pound goes back into the 70's, so the data will need to be matched up by month as it's pulled into a dataframe:"
   ]
  },
  {
   "cell_type": "code",
   "execution_count": 274,
   "metadata": {},
   "outputs": [
    {
     "data": {
      "text/html": [
       "<div>\n",
       "<style>\n",
       "    .dataframe thead tr:only-child th {\n",
       "        text-align: right;\n",
       "    }\n",
       "\n",
       "    .dataframe thead th {\n",
       "        text-align: left;\n",
       "    }\n",
       "\n",
       "    .dataframe tbody tr th {\n",
       "        vertical-align: top;\n",
       "    }\n",
       "</style>\n",
       "<table border=\"1\" class=\"dataframe\">\n",
       "  <thead>\n",
       "    <tr style=\"text-align: right;\">\n",
       "      <th></th>\n",
       "      <th>PoundRate</th>\n",
       "      <th>EuroRate</th>\n",
       "      <th>Month</th>\n",
       "    </tr>\n",
       "    <tr>\n",
       "      <th>Month</th>\n",
       "      <th></th>\n",
       "      <th></th>\n",
       "      <th></th>\n",
       "    </tr>\n",
       "  </thead>\n",
       "  <tbody>\n",
       "    <tr>\n",
       "      <th>1971-01-01</th>\n",
       "      <td>2.4058</td>\n",
       "      <td>NaN</td>\n",
       "      <td>1971-01-01</td>\n",
       "    </tr>\n",
       "    <tr>\n",
       "      <th>1971-02-01</th>\n",
       "      <td>2.4178</td>\n",
       "      <td>NaN</td>\n",
       "      <td>1971-02-01</td>\n",
       "    </tr>\n",
       "    <tr>\n",
       "      <th>1971-03-01</th>\n",
       "      <td>2.4187</td>\n",
       "      <td>NaN</td>\n",
       "      <td>1971-03-01</td>\n",
       "    </tr>\n",
       "    <tr>\n",
       "      <th>1971-04-01</th>\n",
       "      <td>2.4179</td>\n",
       "      <td>NaN</td>\n",
       "      <td>1971-04-01</td>\n",
       "    </tr>\n",
       "    <tr>\n",
       "      <th>1971-05-01</th>\n",
       "      <td>2.4187</td>\n",
       "      <td>NaN</td>\n",
       "      <td>1971-05-01</td>\n",
       "    </tr>\n",
       "    <tr>\n",
       "      <th>1971-06-01</th>\n",
       "      <td>2.4188</td>\n",
       "      <td>NaN</td>\n",
       "      <td>1971-06-01</td>\n",
       "    </tr>\n",
       "    <tr>\n",
       "      <th>1971-07-01</th>\n",
       "      <td>2.4185</td>\n",
       "      <td>NaN</td>\n",
       "      <td>1971-07-01</td>\n",
       "    </tr>\n",
       "    <tr>\n",
       "      <th>1971-08-01</th>\n",
       "      <td>2.4346</td>\n",
       "      <td>NaN</td>\n",
       "      <td>1971-08-01</td>\n",
       "    </tr>\n",
       "    <tr>\n",
       "      <th>1971-09-01</th>\n",
       "      <td>2.4694</td>\n",
       "      <td>NaN</td>\n",
       "      <td>1971-09-01</td>\n",
       "    </tr>\n",
       "    <tr>\n",
       "      <th>1971-10-01</th>\n",
       "      <td>2.4896</td>\n",
       "      <td>NaN</td>\n",
       "      <td>1971-10-01</td>\n",
       "    </tr>\n",
       "  </tbody>\n",
       "</table>\n",
       "</div>"
      ],
      "text/plain": [
       "            PoundRate  EuroRate      Month\n",
       "Month                                     \n",
       "1971-01-01     2.4058       NaN 1971-01-01\n",
       "1971-02-01     2.4178       NaN 1971-02-01\n",
       "1971-03-01     2.4187       NaN 1971-03-01\n",
       "1971-04-01     2.4179       NaN 1971-04-01\n",
       "1971-05-01     2.4187       NaN 1971-05-01\n",
       "1971-06-01     2.4188       NaN 1971-06-01\n",
       "1971-07-01     2.4185       NaN 1971-07-01\n",
       "1971-08-01     2.4346       NaN 1971-08-01\n",
       "1971-09-01     2.4694       NaN 1971-09-01\n",
       "1971-10-01     2.4896       NaN 1971-10-01"
      ]
     },
     "execution_count": 274,
     "metadata": {},
     "output_type": "execute_result"
    }
   ],
   "source": [
    "euro_month = []\n",
    "euro_rate = []\n",
    "for i in range(0, len(euro['observations'])):\n",
    "    euro_month.append(euro['observations'][i]['date'])\n",
    "    euro_rate.append(euro['observations'][i]['value'])\n",
    "    \n",
    "pound_month = []\n",
    "pound_rate = []\n",
    "for i in range(0, len(pound['observations'])):\n",
    "    pound_month.append(pound['observations'][i]['date'])\n",
    "    pound_rate.append(pound['observations'][i]['value'])\n",
    "    \n",
    "euro_df = pd.DataFrame({'Month':euro_month, 'EuroRate':euro_rate})\n",
    "pound_df = pd.DataFrame({'Month':pound_month, 'PoundRate':pound_rate})\n",
    "\n",
    "Exchange_Rates = pound_df.set_index('Month').join(euro_df.set_index('Month'))\n",
    "Exchange_Rates['Month'] = pd.to_datetime(Exchange_Rates.index)\n",
    "Exchange_Rates['PoundRate'] = pd.to_numeric(Exchange_Rates.PoundRate)\n",
    "Exchange_Rates['EuroRate'] = pd.to_numeric(Exchange_Rates.EuroRate)\n",
    "Exchange_Rates.head(10)"
   ]
  },
  {
   "cell_type": "code",
   "execution_count": 278,
   "metadata": {},
   "outputs": [
    {
     "data": {
      "text/plain": [
       "(2.6181000000000001, 1.0931)"
      ]
     },
     "execution_count": 278,
     "metadata": {},
     "output_type": "execute_result"
    }
   ],
   "source": [
    "Exchange_Rates.PoundRate.max(), Exchange_Rates.PoundRate.min()"
   ]
  },
  {
   "cell_type": "code",
   "execution_count": 277,
   "metadata": {},
   "outputs": [
    {
     "data": {
      "text/plain": [
       "(1.5759000000000001, 0.85250000000000004)"
      ]
     },
     "execution_count": 277,
     "metadata": {},
     "output_type": "execute_result"
    }
   ],
   "source": [
    "Exchange_Rates.EuroRate.max(), Exchange_Rates.EuroRate.min()"
   ]
  },
  {
   "cell_type": "code",
   "execution_count": 279,
   "metadata": {},
   "outputs": [
    {
     "data": {
      "text/plain": [
       "0.31415181240533596"
      ]
     },
     "execution_count": 279,
     "metadata": {},
     "output_type": "execute_result"
    }
   ],
   "source": [
    "Exchange_Rates.PoundRate.std()"
   ]
  },
  {
   "cell_type": "code",
   "execution_count": 280,
   "metadata": {},
   "outputs": [
    {
     "data": {
      "text/plain": [
       "0.172108338840391"
      ]
     },
     "execution_count": 280,
     "metadata": {},
     "output_type": "execute_result"
    }
   ],
   "source": [
    "Exchange_Rates.EuroRate.std()"
   ]
  },
  {
   "cell_type": "markdown",
   "metadata": {},
   "source": [
    "Both the minimum and the maximum of the pound's exchange rate and the euro's exchange rate fall within bounds that seem reasonable, so I don't think I have any outliers that I'll need to deal with. The pound has a significantly higher standard deviation, meaning that it's been more volatile than the euro has relative to the dollar.\n",
    "\n",
    "Graphing both gives a sense of trends in the exchange rates over time and more recently:"
   ]
  },
  {
   "cell_type": "code",
   "execution_count": 294,
   "metadata": {},
   "outputs": [
    {
     "data": {
      "text/plain": [
       "Text(0.5,0,'Year')"
      ]
     },
     "execution_count": 294,
     "metadata": {},
     "output_type": "execute_result"
    },
    {
     "data": {
      "image/png": "[encoded data removed]",
      "text/plain": [
       "<matplotlib.figure.Figure at 0x1a3b1cd470>"
      ]
     },
     "metadata": {},
     "output_type": "display_data"
    }
   ],
   "source": [
    "plt.subplots(figsize=(12,8))\n",
    "\n",
    "plt.plot(Exchange_Rates['Month'], Exchange_Rates['PoundRate'],'b', label='Pound')\n",
    "plt.plot(Exchange_Rates['Month'], Exchange_Rates['EuroRate'],'g', label='Euro')\n",
    "\n",
    "plt.legend(loc='best')\n",
    "plt.title('USD to GBP/EUR Exchange Rate, 1971-Present', size=14, fontweight='bold')\n",
    "plt.ylabel('Exchange Rate', size=12)\n",
    "plt.xlabel('Year', size=12)"
   ]
  },
  {
   "cell_type": "code",
   "execution_count": 292,
   "metadata": {
    "collapsed": true
   },
   "outputs": [],
   "source": [
    "Exchange_Rates_1991_Present = Exchange_Rates.dropna()"
   ]
  },
  {
   "cell_type": "code",
   "execution_count": 295,
   "metadata": {},
   "outputs": [
    {
     "data": {
      "text/plain": [
       "Text(0.5,0,'Year')"
      ]
     },
     "execution_count": 295,
     "metadata": {},
     "output_type": "execute_result"
    },
    {
     "data": {
      "image/png": "[encoded data removed]",
      "text/plain": [
       "<matplotlib.figure.Figure at 0x1a39221320>"
      ]
     },
     "metadata": {},
     "output_type": "display_data"
    }
   ],
   "source": [
    "plt.subplots(figsize=(12,8))\n",
    "\n",
    "plt.plot(Exchange_Rates_1991_Present['Month'], Exchange_Rates_1991_Present['PoundRate'],'b', label='Pound')\n",
    "plt.plot(Exchange_Rates_1991_Present['Month'], Exchange_Rates_1991_Present['EuroRate'],'g', label='Euro')\n",
    "\n",
    "plt.legend(loc='best')\n",
    "plt.title('USD to GBP/EUR Exchange Rate, 1991-Present', size=14, fontweight='bold')\n",
    "plt.ylabel('Exchange Rate', size=12)\n",
    "plt.xlabel('Year', size=12)"
   ]
  },
  {
   "cell_type": "markdown",
   "metadata": {},
   "source": [
    "The pound and the euro's exchange rates appear to follow each other pretty closely, which makes sense given that the shown exchange rates both draw on the USD. Over the last two years the exchange rates for both, and particularly the pound, have been at a lower level than they'd been at in well over a decade. Both currencies seemed to have strengthened relative to the dollar through 2017, but regardless, the pound particularly is at a lower point than it's been for most of the last two decades, so now appears to be a reasonably good time to swap dollars to pounds."
   ]
  }
 ],
 "metadata": {
  "kernelspec": {
   "display_name": "Python 3",
   "language": "python",
   "name": "python3"
  },
  "language_info": {
   "codemirror_mode": {
    "name": "ipython",
    "version": 3
   },
   "file_extension": ".py",
   "mimetype": "text/x-python",
   "name": "python",
   "nbconvert_exporter": "python",
   "pygments_lexer": "ipython3",
   "version": "3.6.3"
  }
 },
 "nbformat": 4,
 "nbformat_minor": 2
}
